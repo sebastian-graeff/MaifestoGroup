{
 "cells": [
  {
   "cell_type": "code",
   "execution_count": 7,
   "metadata": {},
   "outputs": [],
   "source": [
    "import random"
   ]
  },
  {
   "cell_type": "code",
   "execution_count": 21,
   "metadata": {},
   "outputs": [],
   "source": [
    "# define function to collect chunks\n",
    "\n",
    "def get_chunks(text, maxlength, num_chunks, seed=None):\n",
    "    random.seed(seed)\n",
    "    chunks = []\n",
    "    words = text.split()\n",
    "    while len(chunks) < num_chunks and len(words) >= maxlength:\n",
    "        start_index = random.randint(0, len(words) - maxlength)\n",
    "        end_index = start_index + maxlength\n",
    "        chunk = ' '.join(words[start_index:end_index])\n",
    "        chunks.append(chunk)\n",
    "        del words[start_index:end_index]\n",
    "    return chunks"
   ]
  },
  {
   "cell_type": "code",
   "execution_count": 22,
   "metadata": {},
   "outputs": [],
   "source": [
    "file_names = ['14810.txt', '35311.txt', '43901.txt', '51903.txt', '88320.txt', '91440.txt', '92022.txt', '96630.txt']\n",
    "\n",
    "file_chunks = {}"
   ]
  },
  {
   "cell_type": "code",
   "execution_count": 25,
   "metadata": {},
   "outputs": [
    {
     "name": "stdout",
     "output_type": "stream",
     "text": [
      "File chunks have been saved to chunks.txt\n"
     ]
    }
   ],
   "source": [
    "for file_name in file_names:\n",
    "    with open('RandomManifestos/Translations/' + file_name, 'r') as file: \n",
    "        file_content= file.read()\n",
    "        chunks = get_chunks(file_content, 500, 5, seed = 42)\n",
    "        file_chunks[file_name[:-4]] = chunks\n",
    "\n",
    "output_file = \"RandomManifestos/chunks.txt\"\n",
    "with open(output_file, 'w') as file:\n",
    "    for var_name, chunks in file_chunks.items():\n",
    "        file.write(f\"Variable name: {var_name}\\n\")\n",
    "        for i, chunk in enumerate(chunks):\n",
    "            file.write(f\"Chunk {i + 1}:\\n{chunk}\\n\")\n",
    "        file.write('\\n')\n",
    "\n",
    "print(\"File chunks have been saved to chunks.txt\")"
   ]
  }
 ],
 "metadata": {
  "kernelspec": {
   "display_name": "base",
   "language": "python",
   "name": "python3"
  },
  "language_info": {
   "codemirror_mode": {
    "name": "ipython",
    "version": 3
   },
   "file_extension": ".py",
   "mimetype": "text/x-python",
   "name": "python",
   "nbconvert_exporter": "python",
   "pygments_lexer": "ipython3",
   "version": "3.9.18"
  }
 },
 "nbformat": 4,
 "nbformat_minor": 2
}
