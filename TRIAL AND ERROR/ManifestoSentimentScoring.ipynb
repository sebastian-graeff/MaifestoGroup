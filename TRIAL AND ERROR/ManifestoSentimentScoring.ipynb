{
 "cells": [
  {
   "cell_type": "code",
   "execution_count": 5,
   "metadata": {},
   "outputs": [],
   "source": [
    "import requests"
   ]
  },
  {
   "cell_type": "code",
   "execution_count": 6,
   "metadata": {},
   "outputs": [],
   "source": [
    "API_KEY = 'e97622ae328ffff2722a4df52cd23e62'"
   ]
  },
  {
   "cell_type": "code",
   "execution_count": 26,
   "metadata": {},
   "outputs": [
    {
     "name": "stdout",
     "output_type": "stream",
     "text": [
      "{'datasets': [{'id': 'MPDS2012a', 'name': 'Manifesto Project Dataset (version 2012a)'}, {'id': 'MPDS2012b', 'name': 'Manifesto Project Dataset (version 2012b)'}, {'id': 'MPDS2013a', 'name': 'Manifesto Project Dataset (version 2013a)'}, {'id': 'MPDS2013b', 'name': 'Manifesto Project Dataset (version 2013b)'}, {'id': 'MPDS2014a', 'name': 'Manifesto Project Dataset (version 2014a)'}, {'id': 'MPDS2014b', 'name': 'Manifesto Project Dataset (version 2014b)'}, {'id': 'MPDS2015a', 'name': 'Manifesto Project Dataset (version 2015a)'}, {'id': 'MPDS2016a', 'name': 'Manifesto Project Dataset (version 2016a)'}, {'id': 'MPDS2016b', 'name': 'Manifesto Project Dataset (version 2016b)'}, {'id': 'MPDS2017a', 'name': 'Manifesto Project Dataset (version 2017a)'}, {'id': 'MPDS2017b', 'name': 'Manifesto Project Dataset (version 2017b)'}, {'id': 'MPDS2018a', 'name': 'Manifesto Project Dataset (version 2018a)'}, {'id': 'MPDS2018b', 'name': 'Manifesto Project Dataset (version 2018b)'}, {'id': 'MPDS2019a', 'name': 'Manifesto Project Dataset (version 2019a)'}, {'id': 'MPDS2019b', 'name': 'Manifesto Project Dataset (version 2019b)'}, {'id': 'MPDS2020a', 'name': 'Manifesto Project Dataset (version 2020a)'}, {'id': 'MPDS2020b', 'name': 'Manifesto Project Dataset (version 2020b)'}, {'id': 'MPDS2021a', 'name': 'Manifesto Project Dataset (version 2021a)'}, {'id': 'MPDS2022a', 'name': 'Manifesto Project Dataset (version 2022a)'}, {'id': 'MPDS2023a', 'name': 'Manifesto Project Dataset (version 2023a)'}]}\n"
     ]
    }
   ],
   "source": [
    "URL = f'https://manifesto-project.wzb.eu/api/v1/list_core_versions?api_key={API_KEY}'\n",
    "response = requests.get(URL)\n",
    "print(response.json())"
   ]
  },
  {
   "cell_type": "code",
   "execution_count": 32,
   "metadata": {},
   "outputs": [
    {
     "name": "stdout",
     "output_type": "stream",
     "text": [
      "Failed to fetch manifestos: {\"error\":\"Unauthorized\"}\n"
     ]
    }
   ],
   "source": [
    "import requests\n",
    "\n",
    "def fetch_manifestos(api_key):\n",
    "    url = \"https://manifesto-project.wzb.eu/api/v1/metadata\"\n",
    "    params = {\n",
    "        \"api_key\": api_key,\n",
    "        \"keys[]\": [\"41020_201405\"]  # Example keys for Brazilian parties\n",
    "    }\n",
    "\n",
    "    response = requests.get(url, params=params)\n",
    "    \n",
    "    if response.status_code == 200:\n",
    "        manifestos = response.json()\n",
    "        # Process the manifestos as needed\n",
    "        print(manifestos)\n",
    "    else:\n",
    "        print(\"Failed to fetch manifestos:\", response.text)\n",
    "\n",
    "# Replace 'your_api_key' with your actual API key\n",
    "fetch_manifestos(API_KEY)\n"
   ]
  },
  {
   "cell_type": "code",
   "execution_count": 51,
   "metadata": {},
   "outputs": [],
   "source": [
    "url = \"https://manifesto-project.wzb.eu/api/v1/metadata\"\n",
    "params = {\n",
    "        \"api_key\": \"e97622ae328ffff2722a4df52cd23e62\",\n",
    "        \"version\": \"2015-3\",  # You may adjust the version as needed\n",
    "        \"keys[]\": [\"41020_201405\"]  # Example keys for Brazilian parties\n",
    "    }\n",
    "\n",
    "response = requests.get(url, params=params)"
   ]
  },
  {
   "cell_type": "code",
   "execution_count": 52,
   "metadata": {},
   "outputs": [
    {
     "data": {
      "text/plain": [
       "{'items': [], 'missing_items': ['41020_201405']}"
      ]
     },
     "execution_count": 52,
     "metadata": {},
     "output_type": "execute_result"
    }
   ],
   "source": [
    "response.json()"
   ]
  },
  {
   "cell_type": "code",
   "execution_count": 50,
   "metadata": {},
   "outputs": [
    {
     "name": "stdout",
     "output_type": "stream",
     "text": [
      "Error: 404\n"
     ]
    }
   ],
   "source": [
    "import requests\n",
    "\n",
    "# Replace 'your_api_key' with your actual API key\n",
    "api_key = \"e97622ae328ffff2722a4df52cd23e62\"\n",
    "\n",
    "# API endpoint for getting texts and annotations\n",
    "url = 'https://manifesto-project.wzb.eu/api/v1/texts_and_annotations'\n",
    "\n",
    "# Parameters for the request\n",
    "params = {\n",
    "    'api_key': api_key,\n",
    "    'keys[]': 'US',  # Country code for the United States\n",
    "    'version': 'latest'  # Retrieve the latest available data\n",
    "}\n",
    "\n",
    "# Make the GET request\n",
    "response = requests.get(url, params=params)\n",
    "\n",
    "# Check if the request was successful (status code 200)\n",
    "if response.status_code == 200:\n",
    "    # Extract data from the response\n",
    "    data = response.json()\n",
    "    \n",
    "    # Handle the data as needed\n",
    "    print(data)  # For demonstration, you can print the data\n",
    "else:\n",
    "    print('Error:', response.status_code)\n"
   ]
  },
  {
   "cell_type": "code",
   "execution_count": 42,
   "metadata": {},
   "outputs": [
    {
     "data": {
      "text/plain": [
       "' e97622ae328ffff2722a4df52cd23e62'"
      ]
     },
     "execution_count": 42,
     "metadata": {},
     "output_type": "execute_result"
    }
   ],
   "source": [
    "api_key"
   ]
  },
  {
   "cell_type": "code",
   "execution_count": 63,
   "metadata": {},
   "outputs": [],
   "source": [
    "# API endpoint for getting texts and annotations\n",
    "url = 'https://manifesto-project.wzb.eu/api/v1/texts_and_annotations'\n",
    "\n",
    "# Parameters for the request\n",
    "params = {\n",
    "    'api_key': \"e97622ae328ffff2722a4df52cd23e62\",\n",
    "    'keys[]': 'USA',  # Country code for the United States\n",
    "    'version': 'latest'  # Retrieve the latest available data\n",
    "}\n",
    "\n",
    "# Make the GET request\n",
    "response = requests.get(url,params=params)"
   ]
  },
  {
   "cell_type": "code",
   "execution_count": 64,
   "metadata": {},
   "outputs": [
    {
     "data": {
      "text/plain": [
       "{'error': 'Element not found'}"
      ]
     },
     "execution_count": 64,
     "metadata": {},
     "output_type": "execute_result"
    }
   ],
   "source": [
    "response.json()"
   ]
  },
  {
   "cell_type": "code",
   "execution_count": 65,
   "metadata": {},
   "outputs": [
    {
     "name": "stdout",
     "output_type": "stream",
     "text": [
      "Error: 404\n"
     ]
    }
   ],
   "source": [
    "import requests\n",
    "\n",
    "# API endpoint for getting texts and annotations\n",
    "url = 'https://manifesto-project.wzb.eu/api/v1/texts_and_annotations'\n",
    "\n",
    "# Parameters for the request\n",
    "params = {\n",
    "    'api_key': \"e97622ae328ffff2722a4df52cd23e62\",\n",
    "    'keys[]': 'US',  # Specify the country code or party code here\n",
    "    'version': 'latest'  # Retrieve the latest available data\n",
    "}\n",
    "\n",
    "# Make the GET request\n",
    "response = requests.get(url, params=params)\n",
    "\n",
    "# Check if the request was successful (status code 200)\n",
    "if response.status_code == 200:\n",
    "    # Extract data from the response\n",
    "    data = response.json()\n",
    "    \n",
    "    # Handle the data as needed\n",
    "    print(data)  # For demonstration, you can print the data\n",
    "else:\n",
    "    print('Error:', response.status_code)\n"
   ]
  },
  {
   "cell_type": "code",
   "execution_count": 68,
   "metadata": {},
   "outputs": [
    {
     "name": "stdout",
     "output_type": "stream",
     "text": [
      "Failed to fetch metadata: {\"error\":\"Missing required parameters\"}\n",
      "Failed to retrieve keys.\n"
     ]
    }
   ],
   "source": [
    "import requests\n",
    "\n",
    "# Function to retrieve keys from metadata responses\n",
    "def get_keys(api_key):\n",
    "    # API endpoint for getting metadata\n",
    "    metadata_url = 'https://manifesto-project.wzb.eu/api/v1/metadata'\n",
    "    \n",
    "    # Parameters for the request\n",
    "    metadata_params = {\n",
    "        'api_key': api_key,\n",
    "        'version': 'latest'  # Retrieve the latest available data\n",
    "    }\n",
    "\n",
    "    # Make the GET request to fetch metadata\n",
    "    metadata_response = requests.get(metadata_url, params=metadata_params)\n",
    "    \n",
    "    # Check if the request was successful\n",
    "    if metadata_response.status_code == 200:\n",
    "        metadata_data = metadata_response.json()\n",
    "        \n",
    "        # Extract manifesto IDs from metadata responses\n",
    "        manifesto_ids = [item['manifesto_id'] for item in metadata_data.get('datasets', [])]\n",
    "        \n",
    "        # Construct keys for texts_and_annotations endpoint\n",
    "        keys = [f\"keys[]={manifesto_id}\" for manifesto_id in manifesto_ids]\n",
    "        \n",
    "        return keys\n",
    "    else:\n",
    "        print('Failed to fetch metadata:', metadata_response.text)\n",
    "        return None\n",
    "\n",
    "# API key\n",
    "api_key = \"e97622ae328ffff2722a4df52cd23e62\"\n",
    "\n",
    "# Get keys from metadata responses\n",
    "keys = get_keys(api_key)\n",
    "\n",
    "if keys:\n",
    "    print(\"Keys for texts_and_annotations endpoint:\")\n",
    "    for key in keys:\n",
    "        print(key)\n",
    "else:\n",
    "    print(\"Failed to retrieve keys.\")\n"
   ]
  },
  {
   "cell_type": "code",
   "execution_count": 21,
   "metadata": {},
   "outputs": [],
   "source": [
    "from pymanifesto import pymanifesto as mp"
   ]
  },
  {
   "cell_type": "code",
   "execution_count": 36,
   "metadata": {},
   "outputs": [],
   "source": [
    "manifesto = mp.API(API_KEY)"
   ]
  },
  {
   "cell_type": "code",
   "execution_count": 44,
   "metadata": {},
   "outputs": [
    {
     "data": {
      "text/plain": [
       "[DatasetVersion(id='MPDS2012a', name='Manifesto Project Dataset (version 2012a)'),\n",
       " DatasetVersion(id='MPDS2012b', name='Manifesto Project Dataset (version 2012b)'),\n",
       " DatasetVersion(id='MPDS2013a', name='Manifesto Project Dataset (version 2013a)'),\n",
       " DatasetVersion(id='MPDS2013b', name='Manifesto Project Dataset (version 2013b)'),\n",
       " DatasetVersion(id='MPDS2014a', name='Manifesto Project Dataset (version 2014a)'),\n",
       " DatasetVersion(id='MPDS2014b', name='Manifesto Project Dataset (version 2014b)'),\n",
       " DatasetVersion(id='MPDS2015a', name='Manifesto Project Dataset (version 2015a)'),\n",
       " DatasetVersion(id='MPDS2016a', name='Manifesto Project Dataset (version 2016a)'),\n",
       " DatasetVersion(id='MPDS2016b', name='Manifesto Project Dataset (version 2016b)'),\n",
       " DatasetVersion(id='MPDS2017a', name='Manifesto Project Dataset (version 2017a)'),\n",
       " DatasetVersion(id='MPDS2017b', name='Manifesto Project Dataset (version 2017b)'),\n",
       " DatasetVersion(id='MPDS2018a', name='Manifesto Project Dataset (version 2018a)'),\n",
       " DatasetVersion(id='MPDS2018b', name='Manifesto Project Dataset (version 2018b)'),\n",
       " DatasetVersion(id='MPDS2019a', name='Manifesto Project Dataset (version 2019a)'),\n",
       " DatasetVersion(id='MPDS2019b', name='Manifesto Project Dataset (version 2019b)'),\n",
       " DatasetVersion(id='MPDS2020a', name='Manifesto Project Dataset (version 2020a)'),\n",
       " DatasetVersion(id='MPDS2020b', name='Manifesto Project Dataset (version 2020b)'),\n",
       " DatasetVersion(id='MPDS2021a', name='Manifesto Project Dataset (version 2021a)'),\n",
       " DatasetVersion(id='MPDS2022a', name='Manifesto Project Dataset (version 2022a)'),\n",
       " DatasetVersion(id='MPDS2023a', name='Manifesto Project Dataset (version 2023a)')]"
      ]
     },
     "execution_count": 44,
     "metadata": {},
     "output_type": "execute_result"
    }
   ],
   "source": [
    "manifesto.list_core_versions()"
   ]
  },
  {
   "cell_type": "code",
   "execution_count": 54,
   "metadata": {},
   "outputs": [
    {
     "ename": "AttributeError",
     "evalue": "module 'pymanifesto.pymanifesto' has no attribute '__meta_format__'",
     "output_type": "error",
     "traceback": [
      "\u001b[1;31m---------------------------------------------------------------------------\u001b[0m",
      "\u001b[1;31mAttributeError\u001b[0m                            Traceback (most recent call last)",
      "Cell \u001b[1;32mIn[54], line 1\u001b[0m\n\u001b[1;32m----> 1\u001b[0m \u001b[43mmp\u001b[49m\u001b[38;5;241;43m.\u001b[39;49m\u001b[43m__meta_format__\u001b[49m(manifesto)\n",
      "\u001b[1;31mAttributeError\u001b[0m: module 'pymanifesto.pymanifesto' has no attribute '__meta_format__'"
     ]
    }
   ],
   "source": [
    "mp.__meta_format__(manifesto)"
   ]
  },
  {
   "cell_type": "code",
   "execution_count": 42,
   "metadata": {},
   "outputs": [
    {
     "data": {
      "text/plain": [
       "{'error': 'Missing required parameters'}"
      ]
     },
     "execution_count": 42,
     "metadata": {},
     "output_type": "execute_result"
    }
   ],
   "source": [
    "metadata_url = \"https://manifesto-project.wzb.eu/api/v1/metadata?api_key=\" + API_KEY\n",
    "\n",
    "# Make a request to get metadata (hypothetical example)\n",
    "response = requests.get(metadata_url)\n",
    "response.json()"
   ]
  },
  {
   "cell_type": "code",
   "execution_count": 9,
   "metadata": {},
   "outputs": [
    {
     "data": {
      "text/plain": [
       "{'error': 'Missing required parameters'}"
      ]
     },
     "execution_count": 9,
     "metadata": {},
     "output_type": "execute_result"
    }
   ],
   "source": []
  },
  {
   "cell_type": "code",
   "execution_count": 10,
   "metadata": {},
   "outputs": [
    {
     "data": {
      "text/plain": [
       "400"
      ]
     },
     "execution_count": 10,
     "metadata": {},
     "output_type": "execute_result"
    }
   ],
   "source": [
    "response.status_code"
   ]
  },
  {
   "cell_type": "code",
   "execution_count": null,
   "metadata": {},
   "outputs": [],
   "source": []
  }
 ],
 "metadata": {
  "kernelspec": {
   "display_name": "Uni",
   "language": "python",
   "name": "python3"
  },
  "language_info": {
   "codemirror_mode": {
    "name": "ipython",
    "version": 3
   },
   "file_extension": ".py",
   "mimetype": "text/x-python",
   "name": "python",
   "nbconvert_exporter": "python",
   "pygments_lexer": "ipython3",
   "version": "3.12.1"
  }
 },
 "nbformat": 4,
 "nbformat_minor": 2
}
