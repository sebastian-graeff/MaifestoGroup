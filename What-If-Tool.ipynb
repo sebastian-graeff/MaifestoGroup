{
 "cells": [
  {
   "cell_type": "code",
   "execution_count": 1,
   "metadata": {},
   "outputs": [
    {
     "name": "stdout",
     "output_type": "stream",
     "text": [
      "Requirement already satisfied: witwidget in c:\\users\\sanne\\anaconda3\\lib\\site-packages (1.8.1)\n",
      "Requirement already satisfied: absl-py>=0.4 in c:\\users\\sanne\\anaconda3\\lib\\site-packages (from witwidget) (2.1.0)\n",
      "Requirement already satisfied: google-api-python-client>=1.7.8 in c:\\users\\sanne\\anaconda3\\lib\\site-packages (from witwidget) (2.102.0)\n",
      "Requirement already satisfied: ipywidgets>=7.0.0 in c:\\users\\sanne\\anaconda3\\lib\\site-packages (from witwidget) (8.1.1)\n",
      "Requirement already satisfied: oauth2client>=4.1.3 in c:\\users\\sanne\\anaconda3\\lib\\site-packages (from witwidget) (4.1.3)\n",
      "Requirement already satisfied: six>=1.12.0 in c:\\users\\sanne\\anaconda3\\lib\\site-packages (from witwidget) (1.16.0)\n",
      "Requirement already satisfied: tensorflow>=1.12.1 in c:\\users\\sanne\\anaconda3\\lib\\site-packages (from witwidget) (2.16.1)\n",
      "Requirement already satisfied: httplib2<1.dev0,>=0.15.0 in c:\\users\\sanne\\anaconda3\\lib\\site-packages (from google-api-python-client>=1.7.8->witwidget) (0.22.0)\n",
      "Requirement already satisfied: google-auth<3.0.0.dev0,>=1.19.0 in c:\\users\\sanne\\anaconda3\\lib\\site-packages (from google-api-python-client>=1.7.8->witwidget) (2.23.2)\n",
      "Requirement already satisfied: google-auth-httplib2>=0.1.0 in c:\\users\\sanne\\anaconda3\\lib\\site-packages (from google-api-python-client>=1.7.8->witwidget) (0.1.1)\n",
      "Requirement already satisfied: google-api-core!=2.0.*,!=2.1.*,!=2.2.*,!=2.3.0,<3.0.0.dev0,>=1.31.5 in c:\\users\\sanne\\anaconda3\\lib\\site-packages (from google-api-python-client>=1.7.8->witwidget) (2.12.0)\n",
      "Requirement already satisfied: uritemplate<5,>=3.0.1 in c:\\users\\sanne\\anaconda3\\lib\\site-packages (from google-api-python-client>=1.7.8->witwidget) (4.1.1)\n",
      "Requirement already satisfied: comm>=0.1.3 in c:\\users\\sanne\\anaconda3\\lib\\site-packages (from ipywidgets>=7.0.0->witwidget) (0.1.4)\n",
      "Requirement already satisfied: ipython>=6.1.0 in c:\\users\\sanne\\anaconda3\\lib\\site-packages (from ipywidgets>=7.0.0->witwidget) (8.18.1)\n",
      "Requirement already satisfied: traitlets>=4.3.1 in c:\\users\\sanne\\anaconda3\\lib\\site-packages (from ipywidgets>=7.0.0->witwidget) (5.14.0)\n",
      "Requirement already satisfied: widgetsnbextension~=4.0.9 in c:\\users\\sanne\\anaconda3\\lib\\site-packages (from ipywidgets>=7.0.0->witwidget) (4.0.9)\n",
      "Requirement already satisfied: jupyterlab-widgets~=3.0.9 in c:\\users\\sanne\\anaconda3\\lib\\site-packages (from ipywidgets>=7.0.0->witwidget) (3.0.9)\n",
      "Requirement already satisfied: pyasn1>=0.1.7 in c:\\users\\sanne\\anaconda3\\lib\\site-packages (from oauth2client>=4.1.3->witwidget) (0.5.1)\n",
      "Requirement already satisfied: pyasn1-modules>=0.0.5 in c:\\users\\sanne\\anaconda3\\lib\\site-packages (from oauth2client>=4.1.3->witwidget) (0.3.0)\n",
      "Requirement already satisfied: rsa>=3.1.4 in c:\\users\\sanne\\anaconda3\\lib\\site-packages (from oauth2client>=4.1.3->witwidget) (4.9)\n",
      "Requirement already satisfied: tensorflow-intel==2.16.1 in c:\\users\\sanne\\anaconda3\\lib\\site-packages (from tensorflow>=1.12.1->witwidget) (2.16.1)\n",
      "Requirement already satisfied: astunparse>=1.6.0 in c:\\users\\sanne\\anaconda3\\lib\\site-packages (from tensorflow-intel==2.16.1->tensorflow>=1.12.1->witwidget) (1.6.3)\n",
      "Requirement already satisfied: flatbuffers>=23.5.26 in c:\\users\\sanne\\anaconda3\\lib\\site-packages (from tensorflow-intel==2.16.1->tensorflow>=1.12.1->witwidget) (24.3.25)\n",
      "Requirement already satisfied: gast!=0.5.0,!=0.5.1,!=0.5.2,>=0.2.1 in c:\\users\\sanne\\anaconda3\\lib\\site-packages (from tensorflow-intel==2.16.1->tensorflow>=1.12.1->witwidget) (0.5.4)\n",
      "Requirement already satisfied: google-pasta>=0.1.1 in c:\\users\\sanne\\anaconda3\\lib\\site-packages (from tensorflow-intel==2.16.1->tensorflow>=1.12.1->witwidget) (0.2.0)\n",
      "Requirement already satisfied: h5py>=3.10.0 in c:\\users\\sanne\\anaconda3\\lib\\site-packages (from tensorflow-intel==2.16.1->tensorflow>=1.12.1->witwidget) (3.10.0)\n",
      "Requirement already satisfied: libclang>=13.0.0 in c:\\users\\sanne\\anaconda3\\lib\\site-packages (from tensorflow-intel==2.16.1->tensorflow>=1.12.1->witwidget) (18.1.1)\n",
      "Requirement already satisfied: ml-dtypes~=0.3.1 in c:\\users\\sanne\\anaconda3\\lib\\site-packages (from tensorflow-intel==2.16.1->tensorflow>=1.12.1->witwidget) (0.3.2)\n",
      "Requirement already satisfied: opt-einsum>=2.3.2 in c:\\users\\sanne\\anaconda3\\lib\\site-packages (from tensorflow-intel==2.16.1->tensorflow>=1.12.1->witwidget) (3.3.0)\n",
      "Requirement already satisfied: packaging in c:\\users\\sanne\\anaconda3\\lib\\site-packages (from tensorflow-intel==2.16.1->tensorflow>=1.12.1->witwidget) (23.2)\n",
      "Requirement already satisfied: protobuf!=4.21.0,!=4.21.1,!=4.21.2,!=4.21.3,!=4.21.4,!=4.21.5,<5.0.0dev,>=3.20.3 in c:\\users\\sanne\\anaconda3\\lib\\site-packages (from tensorflow-intel==2.16.1->tensorflow>=1.12.1->witwidget) (4.24.4)\n",
      "Requirement already satisfied: requests<3,>=2.21.0 in c:\\users\\sanne\\anaconda3\\lib\\site-packages (from tensorflow-intel==2.16.1->tensorflow>=1.12.1->witwidget) (2.31.0)\n",
      "Requirement already satisfied: setuptools in c:\\users\\sanne\\anaconda3\\lib\\site-packages (from tensorflow-intel==2.16.1->tensorflow>=1.12.1->witwidget) (68.2.2)\n",
      "Requirement already satisfied: termcolor>=1.1.0 in c:\\users\\sanne\\anaconda3\\lib\\site-packages (from tensorflow-intel==2.16.1->tensorflow>=1.12.1->witwidget) (2.4.0)\n",
      "Requirement already satisfied: typing-extensions>=3.6.6 in c:\\users\\sanne\\anaconda3\\lib\\site-packages (from tensorflow-intel==2.16.1->tensorflow>=1.12.1->witwidget) (4.4.0)\n",
      "Requirement already satisfied: wrapt>=1.11.0 in c:\\users\\sanne\\anaconda3\\lib\\site-packages (from tensorflow-intel==2.16.1->tensorflow>=1.12.1->witwidget) (1.14.1)\n",
      "Requirement already satisfied: grpcio<2.0,>=1.24.3 in c:\\users\\sanne\\anaconda3\\lib\\site-packages (from tensorflow-intel==2.16.1->tensorflow>=1.12.1->witwidget) (1.63.0)\n",
      "Requirement already satisfied: tensorboard<2.17,>=2.16 in c:\\users\\sanne\\anaconda3\\lib\\site-packages (from tensorflow-intel==2.16.1->tensorflow>=1.12.1->witwidget) (2.16.2)\n",
      "Requirement already satisfied: keras>=3.0.0 in c:\\users\\sanne\\anaconda3\\lib\\site-packages (from tensorflow-intel==2.16.1->tensorflow>=1.12.1->witwidget) (3.3.3)\n",
      "Requirement already satisfied: tensorflow-io-gcs-filesystem>=0.23.1 in c:\\users\\sanne\\anaconda3\\lib\\site-packages (from tensorflow-intel==2.16.1->tensorflow>=1.12.1->witwidget) (0.31.0)\n",
      "Requirement already satisfied: numpy<2.0.0,>=1.23.5 in c:\\users\\sanne\\anaconda3\\lib\\site-packages (from tensorflow-intel==2.16.1->tensorflow>=1.12.1->witwidget) (1.26.2)\n",
      "Requirement already satisfied: googleapis-common-protos<2.0.dev0,>=1.56.2 in c:\\users\\sanne\\anaconda3\\lib\\site-packages (from google-api-core!=2.0.*,!=2.1.*,!=2.2.*,!=2.3.0,<3.0.0.dev0,>=1.31.5->google-api-python-client>=1.7.8->witwidget) (1.60.0)\n",
      "Requirement already satisfied: cachetools<6.0,>=2.0.0 in c:\\users\\sanne\\anaconda3\\lib\\site-packages (from google-auth<3.0.0.dev0,>=1.19.0->google-api-python-client>=1.7.8->witwidget) (5.3.1)\n",
      "Requirement already satisfied: pyparsing!=3.0.0,!=3.0.1,!=3.0.2,!=3.0.3,<4,>=2.4.2 in c:\\users\\sanne\\anaconda3\\lib\\site-packages (from httplib2<1.dev0,>=0.15.0->google-api-python-client>=1.7.8->witwidget) (3.1.1)\n",
      "Requirement already satisfied: decorator in c:\\users\\sanne\\anaconda3\\lib\\site-packages (from ipython>=6.1.0->ipywidgets>=7.0.0->witwidget) (5.1.1)\n",
      "Requirement already satisfied: jedi>=0.16 in c:\\users\\sanne\\anaconda3\\lib\\site-packages (from ipython>=6.1.0->ipywidgets>=7.0.0->witwidget) (0.19.1)\n",
      "Requirement already satisfied: matplotlib-inline in c:\\users\\sanne\\anaconda3\\lib\\site-packages (from ipython>=6.1.0->ipywidgets>=7.0.0->witwidget) (0.1.6)\n",
      "Requirement already satisfied: prompt-toolkit<3.1.0,>=3.0.41 in c:\\users\\sanne\\anaconda3\\lib\\site-packages (from ipython>=6.1.0->ipywidgets>=7.0.0->witwidget) (3.0.41)\n",
      "Requirement already satisfied: pygments>=2.4.0 in c:\\users\\sanne\\anaconda3\\lib\\site-packages (from ipython>=6.1.0->ipywidgets>=7.0.0->witwidget) (2.17.2)\n",
      "Requirement already satisfied: stack-data in c:\\users\\sanne\\anaconda3\\lib\\site-packages (from ipython>=6.1.0->ipywidgets>=7.0.0->witwidget) (0.6.2)\n",
      "Requirement already satisfied: exceptiongroup in c:\\users\\sanne\\anaconda3\\lib\\site-packages (from ipython>=6.1.0->ipywidgets>=7.0.0->witwidget) (1.1.3)\n",
      "Requirement already satisfied: colorama in c:\\users\\sanne\\anaconda3\\lib\\site-packages (from ipython>=6.1.0->ipywidgets>=7.0.0->witwidget) (0.4.6)\n",
      "Requirement already satisfied: wheel<1.0,>=0.23.0 in c:\\users\\sanne\\anaconda3\\lib\\site-packages (from astunparse>=1.6.0->tensorflow-intel==2.16.1->tensorflow>=1.12.1->witwidget) (0.42.0)\n",
      "Requirement already satisfied: parso<0.9.0,>=0.8.3 in c:\\users\\sanne\\anaconda3\\lib\\site-packages (from jedi>=0.16->ipython>=6.1.0->ipywidgets>=7.0.0->witwidget) (0.8.3)\n",
      "Requirement already satisfied: rich in c:\\users\\sanne\\anaconda3\\lib\\site-packages (from keras>=3.0.0->tensorflow-intel==2.16.1->tensorflow>=1.12.1->witwidget) (13.7.0)\n",
      "Requirement already satisfied: namex in c:\\users\\sanne\\anaconda3\\lib\\site-packages (from keras>=3.0.0->tensorflow-intel==2.16.1->tensorflow>=1.12.1->witwidget) (0.0.8)\n",
      "Requirement already satisfied: optree in c:\\users\\sanne\\anaconda3\\lib\\site-packages (from keras>=3.0.0->tensorflow-intel==2.16.1->tensorflow>=1.12.1->witwidget) (0.11.0)\n",
      "Requirement already satisfied: wcwidth in c:\\users\\sanne\\anaconda3\\lib\\site-packages (from prompt-toolkit<3.1.0,>=3.0.41->ipython>=6.1.0->ipywidgets>=7.0.0->witwidget) (0.2.12)\n",
      "Requirement already satisfied: charset-normalizer<4,>=2 in c:\\users\\sanne\\anaconda3\\lib\\site-packages (from requests<3,>=2.21.0->tensorflow-intel==2.16.1->tensorflow>=1.12.1->witwidget) (3.3.2)\n",
      "Requirement already satisfied: idna<4,>=2.5 in c:\\users\\sanne\\anaconda3\\lib\\site-packages (from requests<3,>=2.21.0->tensorflow-intel==2.16.1->tensorflow>=1.12.1->witwidget) (3.6)\n",
      "Requirement already satisfied: urllib3<3,>=1.21.1 in c:\\users\\sanne\\anaconda3\\lib\\site-packages (from requests<3,>=2.21.0->tensorflow-intel==2.16.1->tensorflow>=1.12.1->witwidget) (1.26.18)\n",
      "Requirement already satisfied: certifi>=2017.4.17 in c:\\users\\sanne\\anaconda3\\lib\\site-packages (from requests<3,>=2.21.0->tensorflow-intel==2.16.1->tensorflow>=1.12.1->witwidget) (2024.2.2)\n",
      "Requirement already satisfied: markdown>=2.6.8 in c:\\users\\sanne\\anaconda3\\lib\\site-packages (from tensorboard<2.17,>=2.16->tensorflow-intel==2.16.1->tensorflow>=1.12.1->witwidget) (3.5.1)\n",
      "Requirement already satisfied: tensorboard-data-server<0.8.0,>=0.7.0 in c:\\users\\sanne\\anaconda3\\lib\\site-packages (from tensorboard<2.17,>=2.16->tensorflow-intel==2.16.1->tensorflow>=1.12.1->witwidget) (0.7.2)\n",
      "Requirement already satisfied: werkzeug>=1.0.1 in c:\\users\\sanne\\anaconda3\\lib\\site-packages (from tensorboard<2.17,>=2.16->tensorflow-intel==2.16.1->tensorflow>=1.12.1->witwidget) (2.2.2)\n",
      "Requirement already satisfied: executing>=1.2.0 in c:\\users\\sanne\\anaconda3\\lib\\site-packages (from stack-data->ipython>=6.1.0->ipywidgets>=7.0.0->witwidget) (2.0.1)\n",
      "Requirement already satisfied: asttokens>=2.1.0 in c:\\users\\sanne\\anaconda3\\lib\\site-packages (from stack-data->ipython>=6.1.0->ipywidgets>=7.0.0->witwidget) (2.4.1)\n",
      "Requirement already satisfied: pure-eval in c:\\users\\sanne\\anaconda3\\lib\\site-packages (from stack-data->ipython>=6.1.0->ipywidgets>=7.0.0->witwidget) (0.2.2)\n",
      "Requirement already satisfied: importlib-metadata>=4.4 in c:\\users\\sanne\\anaconda3\\lib\\site-packages (from markdown>=2.6.8->tensorboard<2.17,>=2.16->tensorflow-intel==2.16.1->tensorflow>=1.12.1->witwidget) (6.8.0)\n",
      "Requirement already satisfied: MarkupSafe>=2.1.1 in c:\\users\\sanne\\anaconda3\\lib\\site-packages (from werkzeug>=1.0.1->tensorboard<2.17,>=2.16->tensorflow-intel==2.16.1->tensorflow>=1.12.1->witwidget) (2.1.2)\n",
      "Requirement already satisfied: markdown-it-py>=2.2.0 in c:\\users\\sanne\\anaconda3\\lib\\site-packages (from rich->keras>=3.0.0->tensorflow-intel==2.16.1->tensorflow>=1.12.1->witwidget) (3.0.0)\n",
      "Requirement already satisfied: zipp>=0.5 in c:\\users\\sanne\\anaconda3\\lib\\site-packages (from importlib-metadata>=4.4->markdown>=2.6.8->tensorboard<2.17,>=2.16->tensorflow-intel==2.16.1->tensorflow>=1.12.1->witwidget) (3.17.0)\n",
      "Requirement already satisfied: mdurl~=0.1 in c:\\users\\sanne\\anaconda3\\lib\\site-packages (from markdown-it-py>=2.2.0->rich->keras>=3.0.0->tensorflow-intel==2.16.1->tensorflow>=1.12.1->witwidget) (0.1.0)\n"
     ]
    }
   ],
   "source": [
    "# Install witwidget if you haven't yet (uncomment the next line of code)\n",
    "!pip install witwidget"
   ]
  },
  {
   "cell_type": "code",
   "execution_count": 5,
   "metadata": {},
   "outputs": [
    {
     "name": "stdout",
     "output_type": "stream",
     "text": [
      "Requirement already satisfied: ipywidgets in c:\\users\\sanne\\anaconda3\\lib\\site-packages (8.1.1)\n",
      "Requirement already satisfied: comm>=0.1.3 in c:\\users\\sanne\\anaconda3\\lib\\site-packages (from ipywidgets) (0.1.4)\n",
      "Requirement already satisfied: ipython>=6.1.0 in c:\\users\\sanne\\anaconda3\\lib\\site-packages (from ipywidgets) (8.18.1)\n",
      "Requirement already satisfied: traitlets>=4.3.1 in c:\\users\\sanne\\anaconda3\\lib\\site-packages (from ipywidgets) (5.14.0)\n",
      "Requirement already satisfied: widgetsnbextension~=4.0.9 in c:\\users\\sanne\\anaconda3\\lib\\site-packages (from ipywidgets) (4.0.9)\n",
      "Requirement already satisfied: jupyterlab-widgets~=3.0.9 in c:\\users\\sanne\\anaconda3\\lib\\site-packages (from ipywidgets) (3.0.9)\n",
      "Requirement already satisfied: decorator in c:\\users\\sanne\\anaconda3\\lib\\site-packages (from ipython>=6.1.0->ipywidgets) (5.1.1)\n",
      "Requirement already satisfied: jedi>=0.16 in c:\\users\\sanne\\anaconda3\\lib\\site-packages (from ipython>=6.1.0->ipywidgets) (0.19.1)\n",
      "Requirement already satisfied: matplotlib-inline in c:\\users\\sanne\\anaconda3\\lib\\site-packages (from ipython>=6.1.0->ipywidgets) (0.1.6)\n",
      "Requirement already satisfied: prompt-toolkit<3.1.0,>=3.0.41 in c:\\users\\sanne\\anaconda3\\lib\\site-packages (from ipython>=6.1.0->ipywidgets) (3.0.41)\n",
      "Requirement already satisfied: pygments>=2.4.0 in c:\\users\\sanne\\anaconda3\\lib\\site-packages (from ipython>=6.1.0->ipywidgets) (2.17.2)\n",
      "Requirement already satisfied: stack-data in c:\\users\\sanne\\anaconda3\\lib\\site-packages (from ipython>=6.1.0->ipywidgets) (0.6.2)\n",
      "Requirement already satisfied: typing-extensions in c:\\users\\sanne\\anaconda3\\lib\\site-packages (from ipython>=6.1.0->ipywidgets) (4.4.0)\n",
      "Requirement already satisfied: exceptiongroup in c:\\users\\sanne\\anaconda3\\lib\\site-packages (from ipython>=6.1.0->ipywidgets) (1.1.3)\n",
      "Requirement already satisfied: colorama in c:\\users\\sanne\\anaconda3\\lib\\site-packages (from ipython>=6.1.0->ipywidgets) (0.4.6)\n",
      "Requirement already satisfied: parso<0.9.0,>=0.8.3 in c:\\users\\sanne\\anaconda3\\lib\\site-packages (from jedi>=0.16->ipython>=6.1.0->ipywidgets) (0.8.3)\n",
      "Requirement already satisfied: wcwidth in c:\\users\\sanne\\anaconda3\\lib\\site-packages (from prompt-toolkit<3.1.0,>=3.0.41->ipython>=6.1.0->ipywidgets) (0.2.12)\n",
      "Requirement already satisfied: executing>=1.2.0 in c:\\users\\sanne\\anaconda3\\lib\\site-packages (from stack-data->ipython>=6.1.0->ipywidgets) (2.0.1)\n",
      "Requirement already satisfied: asttokens>=2.1.0 in c:\\users\\sanne\\anaconda3\\lib\\site-packages (from stack-data->ipython>=6.1.0->ipywidgets) (2.4.1)\n",
      "Requirement already satisfied: pure-eval in c:\\users\\sanne\\anaconda3\\lib\\site-packages (from stack-data->ipython>=6.1.0->ipywidgets) (0.2.2)\n",
      "Requirement already satisfied: six>=1.12.0 in c:\\users\\sanne\\anaconda3\\lib\\site-packages (from asttokens>=2.1.0->stack-data->ipython>=6.1.0->ipywidgets) (1.16.0)\n"
     ]
    }
   ],
   "source": [
    "!pip install ipywidgets"
   ]
  },
  {
   "cell_type": "code",
   "execution_count": 6,
   "metadata": {},
   "outputs": [
    {
     "name": "stderr",
     "output_type": "stream",
     "text": [
      "[LabBuildApp] JupyterLab 4.0.9\n",
      "[LabBuildApp] Building in C:\\Users\\sanne\\anaconda3\\share\\jupyter\\lab\n",
      "[LabBuildApp] ERROR | Build failed.\n",
      "Troubleshooting: If the build failed due to an out-of-memory error, you\n",
      "may be able to fix it by disabling the `dev_build` and/or `minimize` options.\n",
      "\n",
      "If you are building via the `jupyter lab build` command, you can disable\n",
      "these options like so:\n",
      "\n",
      "jupyter lab build --dev-build=False --minimize=False\n",
      "\n",
      "You can also disable these options for all JupyterLab builds by adding these\n",
      "lines to a Jupyter config file named `jupyter_config.py`:\n",
      "\n",
      "c.LabBuildApp.minimize = False\n",
      "c.LabBuildApp.dev_build = False\n",
      "\n",
      "If you don't already have a `jupyter_config.py` file, you can create one by\n",
      "adding a blank file of that name to any of the Jupyter config directories.\n",
      "The config directories can be listed by running:\n",
      "\n",
      "jupyter --paths\n",
      "\n",
      "Explanation:\n",
      "\n",
      "- `dev-build`: This option controls whether a `dev` or a more streamlined\n",
      "`production` build is used. This option will default to `False` (i.e., the\n",
      "`production` build) for most users. However, if you have any labextensions\n",
      "installed from local files, this option will instead default to `True`.\n",
      "Explicitly setting `dev-build` to `False` will ensure that the `production`\n",
      "build is used in all circumstances.\n",
      "\n",
      "- `minimize`: This option controls whether your JS bundle is minified\n",
      "during the Webpack build, which helps to improve JupyterLab's overall\n",
      "performance. However, the minifier plugin used by Webpack is very memory\n",
      "intensive, so turning it off may help the build finish successfully in\n",
      "low-memory environments.\n",
      "\n",
      "C:\\Users\\sanne\\anaconda3\\lib\\site-packages\\jupyterlab\\debuglog.py:56: UserWarning: An error occurred.\n",
      "  warnings.warn(\"An error occurred.\")\n",
      "C:\\Users\\sanne\\anaconda3\\lib\\site-packages\\jupyterlab\\debuglog.py:57: UserWarning: ValueError: Please install Node.js and npm before continuing installation. You may be able to install Node.js from your package manager, from conda, or directly from the Node.js website (https://nodejs.org).\n",
      "  warnings.warn(msg[-1].strip())\n",
      "C:\\Users\\sanne\\anaconda3\\lib\\site-packages\\jupyterlab\\debuglog.py:58: UserWarning: See the log file for details: C:\\Users\\sanne\\AppData\\Local\\Temp\\jupyterlab-debug-dnvmks7f.log\n",
      "  warnings.warn(f\"See the log file for details: {log_path!s}\")\n"
     ]
    }
   ],
   "source": [
    "!jupyter lab build"
   ]
  },
  {
   "cell_type": "code",
   "execution_count": 7,
   "metadata": {},
   "outputs": [
    {
     "ename": "TypeError",
     "evalue": "Descriptors cannot not be created directly.\nIf this call came from a _pb2.py file, your generated code is out of date and must be regenerated with protoc >= 3.19.0.\nIf you cannot immediately regenerate your protos, some other possible workarounds are:\n 1. Downgrade the protobuf package to 3.20.x or lower.\n 2. Set PROTOCOL_BUFFERS_PYTHON_IMPLEMENTATION=python (but this will use pure-Python parsing and will be much slower).\n\nMore information: https://developers.google.com/protocol-buffers/docs/news/2022-05-06#python-updates",
     "output_type": "error",
     "traceback": [
      "\u001b[1;31m---------------------------------------------------------------------------\u001b[0m",
      "\u001b[1;31mTypeError\u001b[0m                                 Traceback (most recent call last)",
      "Cell \u001b[1;32mIn[7], line 1\u001b[0m\n\u001b[1;32m----> 1\u001b[0m \u001b[38;5;28;01mfrom\u001b[39;00m \u001b[38;5;21;01mwitwidget\u001b[39;00m\u001b[38;5;21;01m.\u001b[39;00m\u001b[38;5;21;01mnotebook\u001b[39;00m\u001b[38;5;21;01m.\u001b[39;00m\u001b[38;5;21;01mvisualization\u001b[39;00m \u001b[38;5;28;01mimport\u001b[39;00m WitWidget, WitConfigBuilder\n",
      "File \u001b[1;32mc:\\Users\\sanne\\anaconda3\\lib\\site-packages\\witwidget\\__init__.py:15\u001b[0m\n\u001b[0;32m      1\u001b[0m \u001b[38;5;66;03m# Copyright 2018 The TensorFlow Authors. All Rights Reserved.\u001b[39;00m\n\u001b[0;32m      2\u001b[0m \u001b[38;5;66;03m#\u001b[39;00m\n\u001b[0;32m      3\u001b[0m \u001b[38;5;66;03m# Licensed under the Apache License, Version 2.0 (the \"License\");\u001b[39;00m\n\u001b[1;32m   (...)\u001b[0m\n\u001b[0;32m     12\u001b[0m \u001b[38;5;66;03m# See the License for the specific language governing permissions and\u001b[39;00m\n\u001b[0;32m     13\u001b[0m \u001b[38;5;66;03m# limitations under the License.\u001b[39;00m\n\u001b[1;32m---> 15\u001b[0m \u001b[38;5;28;01mfrom\u001b[39;00m \u001b[38;5;21;01mwitwidget\u001b[39;00m\u001b[38;5;21;01m.\u001b[39;00m\u001b[38;5;21;01mnotebook\u001b[39;00m\u001b[38;5;21;01m.\u001b[39;00m\u001b[38;5;21;01mvisualization\u001b[39;00m \u001b[38;5;28;01mimport\u001b[39;00m \u001b[38;5;241m*\u001b[39m\n\u001b[0;32m     17\u001b[0m \u001b[38;5;28;01mdef\u001b[39;00m \u001b[38;5;21m_jupyter_nbextension_paths\u001b[39m():\n\u001b[0;32m     18\u001b[0m   \u001b[38;5;28;01mreturn\u001b[39;00m [{\n\u001b[0;32m     19\u001b[0m     \u001b[38;5;124m'\u001b[39m\u001b[38;5;124msection\u001b[39m\u001b[38;5;124m'\u001b[39m: \u001b[38;5;124m'\u001b[39m\u001b[38;5;124mnotebook\u001b[39m\u001b[38;5;124m'\u001b[39m,\n\u001b[0;32m     20\u001b[0m     \u001b[38;5;124m'\u001b[39m\u001b[38;5;124msrc\u001b[39m\u001b[38;5;124m'\u001b[39m: \u001b[38;5;124m'\u001b[39m\u001b[38;5;124mstatic\u001b[39m\u001b[38;5;124m'\u001b[39m,\n\u001b[0;32m     21\u001b[0m     \u001b[38;5;124m'\u001b[39m\u001b[38;5;124mdest\u001b[39m\u001b[38;5;124m'\u001b[39m: \u001b[38;5;124m'\u001b[39m\u001b[38;5;124mwit-widget\u001b[39m\u001b[38;5;124m'\u001b[39m,\n\u001b[0;32m     22\u001b[0m     \u001b[38;5;124m'\u001b[39m\u001b[38;5;124mrequire\u001b[39m\u001b[38;5;124m'\u001b[39m: \u001b[38;5;124m'\u001b[39m\u001b[38;5;124mwit-widget/extension\u001b[39m\u001b[38;5;124m'\u001b[39m\n\u001b[0;32m     23\u001b[0m   }]\n",
      "File \u001b[1;32mc:\\Users\\sanne\\anaconda3\\lib\\site-packages\\witwidget\\notebook\\visualization.py:27\u001b[0m\n\u001b[0;32m     25\u001b[0m   \u001b[38;5;28;01mfrom\u001b[39;00m \u001b[38;5;21;01mwitwidget\u001b[39;00m\u001b[38;5;21;01m.\u001b[39;00m\u001b[38;5;21;01mnotebook\u001b[39;00m\u001b[38;5;21;01m.\u001b[39;00m\u001b[38;5;21;01mcolab\u001b[39;00m\u001b[38;5;21;01m.\u001b[39;00m\u001b[38;5;21;01mwit\u001b[39;00m \u001b[38;5;28;01mimport\u001b[39;00m \u001b[38;5;241m*\u001b[39m  \u001b[38;5;66;03m# pylint: disable=wildcard-import,g-import-not-at-top\u001b[39;00m\n\u001b[0;32m     26\u001b[0m \u001b[38;5;28;01melse\u001b[39;00m:\n\u001b[1;32m---> 27\u001b[0m   \u001b[38;5;28;01mfrom\u001b[39;00m \u001b[38;5;21;01mwitwidget\u001b[39;00m\u001b[38;5;21;01m.\u001b[39;00m\u001b[38;5;21;01mnotebook\u001b[39;00m\u001b[38;5;21;01m.\u001b[39;00m\u001b[38;5;21;01mjupyter\u001b[39;00m\u001b[38;5;21;01m.\u001b[39;00m\u001b[38;5;21;01mwit\u001b[39;00m \u001b[38;5;28;01mimport\u001b[39;00m \u001b[38;5;241m*\u001b[39m  \u001b[38;5;66;03m# pylint: disable=wildcard-import,g-import-not-at-top\u001b[39;00m\n\u001b[0;32m     30\u001b[0m \u001b[38;5;28;01mclass\u001b[39;00m \u001b[38;5;21;01mWitConfigBuilder\u001b[39;00m(\u001b[38;5;28mobject\u001b[39m):\n\u001b[0;32m     31\u001b[0m \u001b[38;5;250m  \u001b[39m\u001b[38;5;124;03m\"\"\"Configuration builder for WitWidget settings.\"\"\"\u001b[39;00m\n",
      "File \u001b[1;32mc:\\Users\\sanne\\anaconda3\\lib\\site-packages\\witwidget\\notebook\\jupyter\\wit.py:26\u001b[0m\n\u001b[0;32m     24\u001b[0m \u001b[38;5;28;01mfrom\u001b[39;00m \u001b[38;5;21;01mtraitlets\u001b[39;00m \u001b[38;5;28;01mimport\u001b[39;00m Unicode\n\u001b[0;32m     25\u001b[0m \u001b[38;5;28;01mfrom\u001b[39;00m \u001b[38;5;21;01mtraitlets\u001b[39;00m \u001b[38;5;28;01mimport\u001b[39;00m Set\n\u001b[1;32m---> 26\u001b[0m \u001b[38;5;28;01mfrom\u001b[39;00m \u001b[38;5;21;01mwitwidget\u001b[39;00m\u001b[38;5;21;01m.\u001b[39;00m\u001b[38;5;21;01mnotebook\u001b[39;00m \u001b[38;5;28;01mimport\u001b[39;00m base\n\u001b[0;32m     29\u001b[0m \u001b[38;5;129m@widgets\u001b[39m\u001b[38;5;241m.\u001b[39mregister\n\u001b[0;32m     30\u001b[0m \u001b[38;5;28;01mclass\u001b[39;00m \u001b[38;5;21;01mWitWidget\u001b[39;00m(widgets\u001b[38;5;241m.\u001b[39mDOMWidget, base\u001b[38;5;241m.\u001b[39mWitWidgetBase):\n\u001b[0;32m     31\u001b[0m \u001b[38;5;250m  \u001b[39m\u001b[38;5;124;03m\"\"\"WIT widget for Jupyter.\"\"\"\u001b[39;00m\n",
      "File \u001b[1;32mc:\\Users\\sanne\\anaconda3\\lib\\site-packages\\witwidget\\notebook\\base.py:28\u001b[0m\n\u001b[0;32m     26\u001b[0m \u001b[38;5;28;01mfrom\u001b[39;00m \u001b[38;5;21;01msix\u001b[39;00m \u001b[38;5;28;01mimport\u001b[39;00m ensure_str\n\u001b[0;32m     27\u001b[0m \u001b[38;5;28;01mfrom\u001b[39;00m \u001b[38;5;21;01msix\u001b[39;00m \u001b[38;5;28;01mimport\u001b[39;00m integer_types\n\u001b[1;32m---> 28\u001b[0m \u001b[38;5;28;01mfrom\u001b[39;00m \u001b[38;5;21;01mwitwidget\u001b[39;00m\u001b[38;5;21;01m.\u001b[39;00m\u001b[38;5;21;01m_utils\u001b[39;00m \u001b[38;5;28;01mimport\u001b[39;00m inference_utils\n\u001b[0;32m     30\u001b[0m \u001b[38;5;66;03m# Constants used in mutant inference generation.\u001b[39;00m\n\u001b[0;32m     31\u001b[0m NUM_MUTANTS_TO_GENERATE \u001b[38;5;241m=\u001b[39m \u001b[38;5;241m10\u001b[39m\n",
      "File \u001b[1;32mc:\\Users\\sanne\\anaconda3\\lib\\site-packages\\witwidget\\_utils\\inference_utils.py:33\u001b[0m\n\u001b[0;32m     30\u001b[0m \u001b[38;5;28;01mfrom\u001b[39;00m \u001b[38;5;21;01msix\u001b[39;00m\u001b[38;5;21;01m.\u001b[39;00m\u001b[38;5;21;01mmoves\u001b[39;00m \u001b[38;5;28;01mimport\u001b[39;00m \u001b[38;5;28mzip\u001b[39m  \u001b[38;5;66;03m# pylint: disable=redefined-builtin\u001b[39;00m\n\u001b[0;32m     31\u001b[0m \u001b[38;5;28;01mfrom\u001b[39;00m \u001b[38;5;21;01minspect\u001b[39;00m \u001b[38;5;28;01mimport\u001b[39;00m signature\n\u001b[1;32m---> 33\u001b[0m \u001b[38;5;28;01mfrom\u001b[39;00m \u001b[38;5;21;01mwitwidget\u001b[39;00m\u001b[38;5;21;01m.\u001b[39;00m\u001b[38;5;21;01m_utils\u001b[39;00m \u001b[38;5;28;01mimport\u001b[39;00m common_utils\n\u001b[0;32m     34\u001b[0m \u001b[38;5;28;01mfrom\u001b[39;00m \u001b[38;5;21;01mwitwidget\u001b[39;00m\u001b[38;5;21;01m.\u001b[39;00m\u001b[38;5;21;01m_utils\u001b[39;00m \u001b[38;5;28;01mimport\u001b[39;00m platform_utils\n\u001b[0;32m     35\u001b[0m \u001b[38;5;28;01mfrom\u001b[39;00m \u001b[38;5;21;01mwitwidget\u001b[39;00m\u001b[38;5;21;01m.\u001b[39;00m\u001b[38;5;21;01m_vendor\u001b[39;00m\u001b[38;5;21;01m.\u001b[39;00m\u001b[38;5;21;01mtensorflow_serving\u001b[39;00m\u001b[38;5;21;01m.\u001b[39;00m\u001b[38;5;21;01mapis\u001b[39;00m \u001b[38;5;28;01mimport\u001b[39;00m classification_pb2\n",
      "File \u001b[1;32mc:\\Users\\sanne\\anaconda3\\lib\\site-packages\\witwidget\\_utils\\common_utils.py:17\u001b[0m\n\u001b[0;32m      1\u001b[0m \u001b[38;5;66;03m# Copyright 2018 The TensorFlow Authors. All Rights Reserved.\u001b[39;00m\n\u001b[0;32m      2\u001b[0m \u001b[38;5;66;03m#\u001b[39;00m\n\u001b[0;32m      3\u001b[0m \u001b[38;5;66;03m# Licensed under the Apache License, Version 2.0 (the \"License\");\u001b[39;00m\n\u001b[1;32m   (...)\u001b[0m\n\u001b[0;32m     13\u001b[0m \u001b[38;5;66;03m# limitations under the License.\u001b[39;00m\n\u001b[0;32m     14\u001b[0m \u001b[38;5;66;03m# ==============================================================================\u001b[39;00m\n\u001b[0;32m     15\u001b[0m \u001b[38;5;124;03m\"\"\"Common utils for all inference plugin files.\"\"\"\u001b[39;00m\n\u001b[1;32m---> 17\u001b[0m \u001b[38;5;28;01mfrom\u001b[39;00m \u001b[38;5;21;01mwitwidget\u001b[39;00m\u001b[38;5;21;01m.\u001b[39;00m\u001b[38;5;21;01m_vendor\u001b[39;00m\u001b[38;5;21;01m.\u001b[39;00m\u001b[38;5;21;01mtensorflow_serving\u001b[39;00m\u001b[38;5;21;01m.\u001b[39;00m\u001b[38;5;21;01mapis\u001b[39;00m \u001b[38;5;28;01mimport\u001b[39;00m classification_pb2\n\u001b[0;32m     18\u001b[0m \u001b[38;5;28;01mfrom\u001b[39;00m \u001b[38;5;21;01mwitwidget\u001b[39;00m\u001b[38;5;21;01m.\u001b[39;00m\u001b[38;5;21;01m_vendor\u001b[39;00m\u001b[38;5;21;01m.\u001b[39;00m\u001b[38;5;21;01mtensorflow_serving\u001b[39;00m\u001b[38;5;21;01m.\u001b[39;00m\u001b[38;5;21;01mapis\u001b[39;00m \u001b[38;5;28;01mimport\u001b[39;00m regression_pb2\n\u001b[0;32m     21\u001b[0m \u001b[38;5;28;01mclass\u001b[39;00m \u001b[38;5;21;01mInvalidUserInputError\u001b[39;00m(\u001b[38;5;167;01mException\u001b[39;00m):\n",
      "File \u001b[1;32mc:\\Users\\sanne\\anaconda3\\lib\\site-packages\\witwidget\\_vendor\\tensorflow_serving\\apis\\classification_pb2.py:15\u001b[0m\n\u001b[0;32m     10\u001b[0m \u001b[38;5;66;03m# @@protoc_insertion_point(imports)\u001b[39;00m\n\u001b[0;32m     12\u001b[0m _sym_db \u001b[38;5;241m=\u001b[39m _symbol_database\u001b[38;5;241m.\u001b[39mDefault()\n\u001b[1;32m---> 15\u001b[0m \u001b[38;5;28;01mfrom\u001b[39;00m \u001b[38;5;21;01mwitwidget\u001b[39;00m\u001b[38;5;21;01m.\u001b[39;00m\u001b[38;5;21;01m_vendor\u001b[39;00m\u001b[38;5;21;01m.\u001b[39;00m\u001b[38;5;21;01mtensorflow_serving\u001b[39;00m\u001b[38;5;21;01m.\u001b[39;00m\u001b[38;5;21;01mapis\u001b[39;00m \u001b[38;5;28;01mimport\u001b[39;00m input_pb2 \u001b[38;5;28;01mas\u001b[39;00m tensorflow__serving_dot_apis_dot_input__pb2\n\u001b[0;32m     16\u001b[0m \u001b[38;5;28;01mfrom\u001b[39;00m \u001b[38;5;21;01mwitwidget\u001b[39;00m\u001b[38;5;21;01m.\u001b[39;00m\u001b[38;5;21;01m_vendor\u001b[39;00m\u001b[38;5;21;01m.\u001b[39;00m\u001b[38;5;21;01mtensorflow_serving\u001b[39;00m\u001b[38;5;21;01m.\u001b[39;00m\u001b[38;5;21;01mapis\u001b[39;00m \u001b[38;5;28;01mimport\u001b[39;00m model_pb2 \u001b[38;5;28;01mas\u001b[39;00m tensorflow__serving_dot_apis_dot_model__pb2\n\u001b[0;32m     19\u001b[0m DESCRIPTOR \u001b[38;5;241m=\u001b[39m _descriptor\u001b[38;5;241m.\u001b[39mFileDescriptor(\n\u001b[0;32m     20\u001b[0m   name\u001b[38;5;241m=\u001b[39m\u001b[38;5;124m'\u001b[39m\u001b[38;5;124mtensorflow_serving/apis/classification.proto\u001b[39m\u001b[38;5;124m'\u001b[39m,\n\u001b[0;32m     21\u001b[0m   package\u001b[38;5;241m=\u001b[39m\u001b[38;5;124m'\u001b[39m\u001b[38;5;124mtensorflow.serving\u001b[39m\u001b[38;5;124m'\u001b[39m,\n\u001b[1;32m   (...)\u001b[0m\n\u001b[0;32m     25\u001b[0m   ,\n\u001b[0;32m     26\u001b[0m   dependencies\u001b[38;5;241m=\u001b[39m[tensorflow__serving_dot_apis_dot_input__pb2\u001b[38;5;241m.\u001b[39mDESCRIPTOR,tensorflow__serving_dot_apis_dot_model__pb2\u001b[38;5;241m.\u001b[39mDESCRIPTOR,])\n",
      "File \u001b[1;32mc:\\Users\\sanne\\anaconda3\\lib\\site-packages\\witwidget\\_vendor\\tensorflow_serving\\apis\\input_pb2.py:37\u001b[0m\n\u001b[0;32m     15\u001b[0m \u001b[38;5;28;01mfrom\u001b[39;00m \u001b[38;5;21;01mtensorflow\u001b[39;00m\u001b[38;5;21;01m.\u001b[39;00m\u001b[38;5;21;01mcore\u001b[39;00m\u001b[38;5;21;01m.\u001b[39;00m\u001b[38;5;21;01mexample\u001b[39;00m \u001b[38;5;28;01mimport\u001b[39;00m example_pb2 \u001b[38;5;28;01mas\u001b[39;00m tensorflow_dot_core_dot_example_dot_example__pb2\n\u001b[0;32m     18\u001b[0m DESCRIPTOR \u001b[38;5;241m=\u001b[39m _descriptor\u001b[38;5;241m.\u001b[39mFileDescriptor(\n\u001b[0;32m     19\u001b[0m   name\u001b[38;5;241m=\u001b[39m\u001b[38;5;124m'\u001b[39m\u001b[38;5;124mtensorflow_serving/apis/input.proto\u001b[39m\u001b[38;5;124m'\u001b[39m,\n\u001b[0;32m     20\u001b[0m   package\u001b[38;5;241m=\u001b[39m\u001b[38;5;124m'\u001b[39m\u001b[38;5;124mtensorflow.serving\u001b[39m\u001b[38;5;124m'\u001b[39m,\n\u001b[1;32m   (...)\u001b[0m\n\u001b[0;32m     24\u001b[0m   ,\n\u001b[0;32m     25\u001b[0m   dependencies\u001b[38;5;241m=\u001b[39m[tensorflow_dot_core_dot_example_dot_example__pb2\u001b[38;5;241m.\u001b[39mDESCRIPTOR,])\n\u001b[0;32m     30\u001b[0m _EXAMPLELIST \u001b[38;5;241m=\u001b[39m _descriptor\u001b[38;5;241m.\u001b[39mDescriptor(\n\u001b[0;32m     31\u001b[0m   name\u001b[38;5;241m=\u001b[39m\u001b[38;5;124m'\u001b[39m\u001b[38;5;124mExampleList\u001b[39m\u001b[38;5;124m'\u001b[39m,\n\u001b[0;32m     32\u001b[0m   full_name\u001b[38;5;241m=\u001b[39m\u001b[38;5;124m'\u001b[39m\u001b[38;5;124mtensorflow.serving.ExampleList\u001b[39m\u001b[38;5;124m'\u001b[39m,\n\u001b[0;32m     33\u001b[0m   filename\u001b[38;5;241m=\u001b[39m\u001b[38;5;28;01mNone\u001b[39;00m,\n\u001b[0;32m     34\u001b[0m   file\u001b[38;5;241m=\u001b[39mDESCRIPTOR,\n\u001b[0;32m     35\u001b[0m   containing_type\u001b[38;5;241m=\u001b[39m\u001b[38;5;28;01mNone\u001b[39;00m,\n\u001b[0;32m     36\u001b[0m   fields\u001b[38;5;241m=\u001b[39m[\n\u001b[1;32m---> 37\u001b[0m     \u001b[43m_descriptor\u001b[49m\u001b[38;5;241;43m.\u001b[39;49m\u001b[43mFieldDescriptor\u001b[49m\u001b[43m(\u001b[49m\n\u001b[0;32m     38\u001b[0m \u001b[43m      \u001b[49m\u001b[43mname\u001b[49m\u001b[38;5;241;43m=\u001b[39;49m\u001b[38;5;124;43m'\u001b[39;49m\u001b[38;5;124;43mexamples\u001b[39;49m\u001b[38;5;124;43m'\u001b[39;49m\u001b[43m,\u001b[49m\u001b[43m \u001b[49m\u001b[43mfull_name\u001b[49m\u001b[38;5;241;43m=\u001b[39;49m\u001b[38;5;124;43m'\u001b[39;49m\u001b[38;5;124;43mtensorflow.serving.ExampleList.examples\u001b[39;49m\u001b[38;5;124;43m'\u001b[39;49m\u001b[43m,\u001b[49m\u001b[43m \u001b[49m\u001b[43mindex\u001b[49m\u001b[38;5;241;43m=\u001b[39;49m\u001b[38;5;241;43m0\u001b[39;49m\u001b[43m,\u001b[49m\n\u001b[0;32m     39\u001b[0m \u001b[43m      \u001b[49m\u001b[43mnumber\u001b[49m\u001b[38;5;241;43m=\u001b[39;49m\u001b[38;5;241;43m1\u001b[39;49m\u001b[43m,\u001b[49m\u001b[43m \u001b[49m\u001b[38;5;28;43mtype\u001b[39;49m\u001b[38;5;241;43m=\u001b[39;49m\u001b[38;5;241;43m11\u001b[39;49m\u001b[43m,\u001b[49m\u001b[43m \u001b[49m\u001b[43mcpp_type\u001b[49m\u001b[38;5;241;43m=\u001b[39;49m\u001b[38;5;241;43m10\u001b[39;49m\u001b[43m,\u001b[49m\u001b[43m \u001b[49m\u001b[43mlabel\u001b[49m\u001b[38;5;241;43m=\u001b[39;49m\u001b[38;5;241;43m3\u001b[39;49m\u001b[43m,\u001b[49m\n\u001b[0;32m     40\u001b[0m \u001b[43m      \u001b[49m\u001b[43mhas_default_value\u001b[49m\u001b[38;5;241;43m=\u001b[39;49m\u001b[38;5;28;43;01mFalse\u001b[39;49;00m\u001b[43m,\u001b[49m\u001b[43m \u001b[49m\u001b[43mdefault_value\u001b[49m\u001b[38;5;241;43m=\u001b[39;49m\u001b[43m[\u001b[49m\u001b[43m]\u001b[49m\u001b[43m,\u001b[49m\n\u001b[0;32m     41\u001b[0m \u001b[43m      \u001b[49m\u001b[43mmessage_type\u001b[49m\u001b[38;5;241;43m=\u001b[39;49m\u001b[38;5;28;43;01mNone\u001b[39;49;00m\u001b[43m,\u001b[49m\u001b[43m \u001b[49m\u001b[43menum_type\u001b[49m\u001b[38;5;241;43m=\u001b[39;49m\u001b[38;5;28;43;01mNone\u001b[39;49;00m\u001b[43m,\u001b[49m\u001b[43m \u001b[49m\u001b[43mcontaining_type\u001b[49m\u001b[38;5;241;43m=\u001b[39;49m\u001b[38;5;28;43;01mNone\u001b[39;49;00m\u001b[43m,\u001b[49m\n\u001b[0;32m     42\u001b[0m \u001b[43m      \u001b[49m\u001b[43mis_extension\u001b[49m\u001b[38;5;241;43m=\u001b[39;49m\u001b[38;5;28;43;01mFalse\u001b[39;49;00m\u001b[43m,\u001b[49m\u001b[43m \u001b[49m\u001b[43mextension_scope\u001b[49m\u001b[38;5;241;43m=\u001b[39;49m\u001b[38;5;28;43;01mNone\u001b[39;49;00m\u001b[43m,\u001b[49m\n\u001b[0;32m     43\u001b[0m \u001b[43m      \u001b[49m\u001b[43mserialized_options\u001b[49m\u001b[38;5;241;43m=\u001b[39;49m\u001b[38;5;28;43;01mNone\u001b[39;49;00m\u001b[43m,\u001b[49m\u001b[43m \u001b[49m\u001b[43mfile\u001b[49m\u001b[38;5;241;43m=\u001b[39;49m\u001b[43mDESCRIPTOR\u001b[49m\u001b[43m)\u001b[49m,\n\u001b[0;32m     44\u001b[0m   ],\n\u001b[0;32m     45\u001b[0m   extensions\u001b[38;5;241m=\u001b[39m[\n\u001b[0;32m     46\u001b[0m   ],\n\u001b[0;32m     47\u001b[0m   nested_types\u001b[38;5;241m=\u001b[39m[],\n\u001b[0;32m     48\u001b[0m   enum_types\u001b[38;5;241m=\u001b[39m[\n\u001b[0;32m     49\u001b[0m   ],\n\u001b[0;32m     50\u001b[0m   serialized_options\u001b[38;5;241m=\u001b[39m\u001b[38;5;28;01mNone\u001b[39;00m,\n\u001b[0;32m     51\u001b[0m   is_extendable\u001b[38;5;241m=\u001b[39m\u001b[38;5;28;01mFalse\u001b[39;00m,\n\u001b[0;32m     52\u001b[0m   syntax\u001b[38;5;241m=\u001b[39m\u001b[38;5;124m'\u001b[39m\u001b[38;5;124mproto3\u001b[39m\u001b[38;5;124m'\u001b[39m,\n\u001b[0;32m     53\u001b[0m   extension_ranges\u001b[38;5;241m=\u001b[39m[],\n\u001b[0;32m     54\u001b[0m   oneofs\u001b[38;5;241m=\u001b[39m[\n\u001b[0;32m     55\u001b[0m   ],\n\u001b[0;32m     56\u001b[0m   serialized_start\u001b[38;5;241m=\u001b[39m\u001b[38;5;241m98\u001b[39m,\n\u001b[0;32m     57\u001b[0m   serialized_end\u001b[38;5;241m=\u001b[39m\u001b[38;5;241m150\u001b[39m,\n\u001b[0;32m     58\u001b[0m )\n\u001b[0;32m     61\u001b[0m _EXAMPLELISTWITHCONTEXT \u001b[38;5;241m=\u001b[39m _descriptor\u001b[38;5;241m.\u001b[39mDescriptor(\n\u001b[0;32m     62\u001b[0m   name\u001b[38;5;241m=\u001b[39m\u001b[38;5;124m'\u001b[39m\u001b[38;5;124mExampleListWithContext\u001b[39m\u001b[38;5;124m'\u001b[39m,\n\u001b[0;32m     63\u001b[0m   full_name\u001b[38;5;241m=\u001b[39m\u001b[38;5;124m'\u001b[39m\u001b[38;5;124mtensorflow.serving.ExampleListWithContext\u001b[39m\u001b[38;5;124m'\u001b[39m,\n\u001b[1;32m   (...)\u001b[0m\n\u001b[0;32m     95\u001b[0m   serialized_end\u001b[38;5;241m=\u001b[39m\u001b[38;5;241m253\u001b[39m,\n\u001b[0;32m     96\u001b[0m )\n\u001b[0;32m     99\u001b[0m _INPUT \u001b[38;5;241m=\u001b[39m _descriptor\u001b[38;5;241m.\u001b[39mDescriptor(\n\u001b[0;32m    100\u001b[0m   name\u001b[38;5;241m=\u001b[39m\u001b[38;5;124m'\u001b[39m\u001b[38;5;124mInput\u001b[39m\u001b[38;5;124m'\u001b[39m,\n\u001b[0;32m    101\u001b[0m   full_name\u001b[38;5;241m=\u001b[39m\u001b[38;5;124m'\u001b[39m\u001b[38;5;124mtensorflow.serving.Input\u001b[39m\u001b[38;5;124m'\u001b[39m,\n\u001b[1;32m   (...)\u001b[0m\n\u001b[0;32m    136\u001b[0m   serialized_end\u001b[38;5;241m=\u001b[39m\u001b[38;5;241m417\u001b[39m,\n\u001b[0;32m    137\u001b[0m )\n",
      "File \u001b[1;32mc:\\Users\\sanne\\anaconda3\\lib\\site-packages\\google\\protobuf\\descriptor.py:561\u001b[0m, in \u001b[0;36mFieldDescriptor.__new__\u001b[1;34m(cls, name, full_name, index, number, type, cpp_type, label, default_value, message_type, enum_type, containing_type, is_extension, extension_scope, options, serialized_options, has_default_value, containing_oneof, json_name, file, create_key)\u001b[0m\n\u001b[0;32m    555\u001b[0m \u001b[38;5;28;01mdef\u001b[39;00m \u001b[38;5;21m__new__\u001b[39m(\u001b[38;5;28mcls\u001b[39m, name, full_name, index, number, \u001b[38;5;28mtype\u001b[39m, cpp_type, label,\n\u001b[0;32m    556\u001b[0m             default_value, message_type, enum_type, containing_type,\n\u001b[0;32m    557\u001b[0m             is_extension, extension_scope, options\u001b[38;5;241m=\u001b[39m\u001b[38;5;28;01mNone\u001b[39;00m,\n\u001b[0;32m    558\u001b[0m             serialized_options\u001b[38;5;241m=\u001b[39m\u001b[38;5;28;01mNone\u001b[39;00m,\n\u001b[0;32m    559\u001b[0m             has_default_value\u001b[38;5;241m=\u001b[39m\u001b[38;5;28;01mTrue\u001b[39;00m, containing_oneof\u001b[38;5;241m=\u001b[39m\u001b[38;5;28;01mNone\u001b[39;00m, json_name\u001b[38;5;241m=\u001b[39m\u001b[38;5;28;01mNone\u001b[39;00m,\n\u001b[0;32m    560\u001b[0m             file\u001b[38;5;241m=\u001b[39m\u001b[38;5;28;01mNone\u001b[39;00m, create_key\u001b[38;5;241m=\u001b[39m\u001b[38;5;28;01mNone\u001b[39;00m):  \u001b[38;5;66;03m# pylint: disable=redefined-builtin\u001b[39;00m\n\u001b[1;32m--> 561\u001b[0m   \u001b[43m_message\u001b[49m\u001b[38;5;241;43m.\u001b[39;49m\u001b[43mMessage\u001b[49m\u001b[38;5;241;43m.\u001b[39;49m\u001b[43m_CheckCalledFromGeneratedFile\u001b[49m\u001b[43m(\u001b[49m\u001b[43m)\u001b[49m\n\u001b[0;32m    562\u001b[0m   \u001b[38;5;28;01mif\u001b[39;00m is_extension:\n\u001b[0;32m    563\u001b[0m     \u001b[38;5;28;01mreturn\u001b[39;00m _message\u001b[38;5;241m.\u001b[39mdefault_pool\u001b[38;5;241m.\u001b[39mFindExtensionByName(full_name)\n",
      "\u001b[1;31mTypeError\u001b[0m: Descriptors cannot not be created directly.\nIf this call came from a _pb2.py file, your generated code is out of date and must be regenerated with protoc >= 3.19.0.\nIf you cannot immediately regenerate your protos, some other possible workarounds are:\n 1. Downgrade the protobuf package to 3.20.x or lower.\n 2. Set PROTOCOL_BUFFERS_PYTHON_IMPLEMENTATION=python (but this will use pure-Python parsing and will be much slower).\n\nMore information: https://developers.google.com/protocol-buffers/docs/news/2022-05-06#python-updates"
     ]
    }
   ],
   "source": [
    "from witwidget.notebook.visualization import WitWidget, WitConfigBuilder"
   ]
  },
  {
   "cell_type": "code",
   "execution_count": null,
   "metadata": {},
   "outputs": [],
   "source": [
    "df = pd.read_csv(\"CLEAN_DATA/2005-2020_percountry_peryear_final.csv\")\n",
    "display(df)"
   ]
  }
 ],
 "metadata": {
  "kernelspec": {
   "display_name": "base",
   "language": "python",
   "name": "python3"
  },
  "language_info": {
   "codemirror_mode": {
    "name": "ipython",
    "version": 3
   },
   "file_extension": ".py",
   "mimetype": "text/x-python",
   "name": "python",
   "nbconvert_exporter": "python",
   "pygments_lexer": "ipython3",
   "version": "3.9.18"
  }
 },
 "nbformat": 4,
 "nbformat_minor": 2
}
