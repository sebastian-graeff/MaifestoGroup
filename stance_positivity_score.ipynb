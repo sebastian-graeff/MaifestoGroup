{
 "cells": [
  {
   "cell_type": "code",
   "execution_count": 2,
   "metadata": {},
   "outputs": [],
   "source": [
    "import pandas as pd\n",
    "import numpy as np"
   ]
  },
  {
   "cell_type": "code",
   "execution_count": 3,
   "metadata": {},
   "outputs": [
    {
     "name": "stderr",
     "output_type": "stream",
     "text": [
      "/var/folders/bb/hkfpdvbn46vcqvd2x75jvk0h0000gn/T/ipykernel_17037/1559912714.py:2: DtypeWarning: Columns (11) have mixed types. Specify dtype option on import or set low_memory=False.\n",
      "  df = pd.read_csv('CLEAN_DATA/Europe_2015_manifesto_gini.csv')\n"
     ]
    }
   ],
   "source": [
    "# Load the dataset \n",
    "df = pd.read_csv('CLEAN_DATA/Europe_2015_manifesto_gini.csv')"
   ]
  },
  {
   "cell_type": "code",
   "execution_count": 4,
   "metadata": {},
   "outputs": [],
   "source": [
    "#create lists of all positive and negative variables\n",
    "positive_variables = {'per101','per104','per107','per108','per203','per402','per406','per410','per411','per416','per502','per503','per601','per603','per605','per606','per607','per701','per703','per1011','per1012','per1013','per1014','per1015','per1016','per1032','per1033','per2022','per2023','per2031','per2032','per2033','per2041','per3011','per3052','per3054','per3055','per4011','per4013','per4014','per4121','per4122','per4123','per4124','per5021','per5031','per5041','per5061','per6011','per6012','per6013','per6071','per6072','per7051','per7052','per7061','per7062','per202_1','per202_3','per202_4','per305_4','per416_1','per416_2','per601_1','per602_2','per605_1','per606_1','per607_1','per607_3','per703_1'}\n",
    "negative_variables = {'per102','per105','per109','per110','per204','per407','per602','per604','per608','per702','per1021','per1022','per1023','per1024','per1025','per1026','per1031','per3051','per3053','per4012','per4131','per4132','per6081','per202_2','per305_5','per601_2','per602_1','per605_2','per608_1','per608_3','per703_2'}"
   ]
  },
  {
   "cell_type": "code",
   "execution_count": 5,
   "metadata": {},
   "outputs": [
    {
     "name": "stderr",
     "output_type": "stream",
     "text": [
      "/var/folders/bb/hkfpdvbn46vcqvd2x75jvk0h0000gn/T/ipykernel_17037/4200730411.py:5: FutureWarning: Passing a set as an indexer is deprecated and will raise in a future version. Use a list instead.\n",
      "  df['stance_positivity_score'] += df[positive_variables].sum(axis=1)\n",
      "/var/folders/bb/hkfpdvbn46vcqvd2x75jvk0h0000gn/T/ipykernel_17037/4200730411.py:8: FutureWarning: Passing a set as an indexer is deprecated and will raise in a future version. Use a list instead.\n",
      "  df['stance_positivity_score'] -= df[negative_variables].sum(axis=1)\n"
     ]
    }
   ],
   "source": [
    "# Create a new column 'positivity score' with initial value 0\n",
    "df['stance_positivity_score'] = 0\n",
    "\n",
    "# Add up values from titles in List A\n",
    "df['stance_positivity_score'] += df[positive_variables].sum(axis=1)\n",
    "\n",
    "# Subtract values from titles in List B\n",
    "df['stance_positivity_score'] -= df[negative_variables].sum(axis=1)"
   ]
  },
  {
   "cell_type": "code",
   "execution_count": 8,
   "metadata": {},
   "outputs": [],
   "source": [
    "#save as csv (ps = positivity score)\n",
    "df.to_csv(\"CLEAN_DATA/Europe_2015_manifesto_gini_ps.csv\")"
   ]
  },
  {
   "cell_type": "code",
   "execution_count": null,
   "metadata": {},
   "outputs": [],
   "source": []
  }
 ],
 "metadata": {
  "kernelspec": {
   "display_name": "base",
   "language": "python",
   "name": "python3"
  },
  "language_info": {
   "codemirror_mode": {
    "name": "ipython",
    "version": 3
   },
   "file_extension": ".py",
   "mimetype": "text/x-python",
   "name": "python",
   "nbconvert_exporter": "python",
   "pygments_lexer": "ipython3",
   "version": "3.9.19"
  }
 },
 "nbformat": 4,
 "nbformat_minor": 2
}
