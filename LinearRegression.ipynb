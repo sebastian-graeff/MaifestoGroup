{
 "cells": [
  {
   "cell_type": "code",
   "execution_count": 24,
   "metadata": {},
   "outputs": [],
   "source": [
    "#import libraries\n",
    "import numpy as np\n",
    "import pandas as pd\n",
    "import matplotlib.pyplot as plt\n",
    "from sklearn.linear_model import LinearRegression\n",
    "from sklearn.metrics import mean_squared_error"
   ]
  },
  {
   "cell_type": "code",
   "execution_count": 25,
   "metadata": {},
   "outputs": [],
   "source": [
    "data = pd.read_csv(r\"CLEAN_DATA/2015-2020_percountry_peryear_final.csv\")\n",
    "country_profiles = pd.read_csv(r\"CLEAN_DATA/country_profiles.csv\")"
   ]
  },
  {
   "cell_type": "code",
   "execution_count": 26,
   "metadata": {},
   "outputs": [
    {
     "data": {
      "text/html": [
       "<div>\n",
       "<style scoped>\n",
       "    .dataframe tbody tr th:only-of-type {\n",
       "        vertical-align: middle;\n",
       "    }\n",
       "\n",
       "    .dataframe tbody tr th {\n",
       "        vertical-align: top;\n",
       "    }\n",
       "\n",
       "    .dataframe thead th {\n",
       "        text-align: right;\n",
       "    }\n",
       "</style>\n",
       "<table border=\"1\" class=\"dataframe\">\n",
       "  <thead>\n",
       "    <tr style=\"text-align: right;\">\n",
       "      <th></th>\n",
       "      <th>Unnamed: 0.1</th>\n",
       "      <th>Unnamed: 0</th>\n",
       "      <th>countryname</th>\n",
       "      <th>year</th>\n",
       "      <th>rile</th>\n",
       "      <th>stance_positivity_score</th>\n",
       "      <th>gini Coefficient</th>\n",
       "      <th>leading</th>\n",
       "      <th>RILE_stance_score_interaction</th>\n",
       "      <th>Country Profile</th>\n",
       "    </tr>\n",
       "  </thead>\n",
       "  <tbody>\n",
       "    <tr>\n",
       "      <th>0</th>\n",
       "      <td>0</td>\n",
       "      <td>0</td>\n",
       "      <td>Sweden</td>\n",
       "      <td>1970</td>\n",
       "      <td>-10.283625</td>\n",
       "      <td>58.764000</td>\n",
       "      <td>0.299742</td>\n",
       "      <td>left</td>\n",
       "      <td>-604.306940</td>\n",
       "      <td>Country B</td>\n",
       "    </tr>\n",
       "    <tr>\n",
       "      <th>1</th>\n",
       "      <td>1</td>\n",
       "      <td>8</td>\n",
       "      <td>Norway</td>\n",
       "      <td>1970</td>\n",
       "      <td>-15.352667</td>\n",
       "      <td>60.142444</td>\n",
       "      <td>0.269873</td>\n",
       "      <td>left</td>\n",
       "      <td>-923.346902</td>\n",
       "      <td>Country B</td>\n",
       "    </tr>\n",
       "    <tr>\n",
       "      <th>2</th>\n",
       "      <td>2</td>\n",
       "      <td>17</td>\n",
       "      <td>Denmark</td>\n",
       "      <td>1970</td>\n",
       "      <td>-6.543842</td>\n",
       "      <td>50.180000</td>\n",
       "      <td>0.279386</td>\n",
       "      <td>left</td>\n",
       "      <td>-328.369997</td>\n",
       "      <td>Country B</td>\n",
       "    </tr>\n",
       "    <tr>\n",
       "      <th>3</th>\n",
       "      <td>3</td>\n",
       "      <td>36</td>\n",
       "      <td>Finland</td>\n",
       "      <td>1970</td>\n",
       "      <td>-19.870412</td>\n",
       "      <td>50.911235</td>\n",
       "      <td>0.274384</td>\n",
       "      <td>left</td>\n",
       "      <td>-1011.627209</td>\n",
       "      <td>Country B</td>\n",
       "    </tr>\n",
       "    <tr>\n",
       "      <th>4</th>\n",
       "      <td>4</td>\n",
       "      <td>53</td>\n",
       "      <td>Iceland</td>\n",
       "      <td>1970</td>\n",
       "      <td>-20.732533</td>\n",
       "      <td>45.709688</td>\n",
       "      <td>0.266170</td>\n",
       "      <td>left</td>\n",
       "      <td>-947.677620</td>\n",
       "      <td>Country A</td>\n",
       "    </tr>\n",
       "  </tbody>\n",
       "</table>\n",
       "</div>"
      ],
      "text/plain": [
       "   Unnamed: 0.1  Unnamed: 0 countryname  year       rile  \\\n",
       "0             0           0      Sweden  1970 -10.283625   \n",
       "1             1           8      Norway  1970 -15.352667   \n",
       "2             2          17     Denmark  1970  -6.543842   \n",
       "3             3          36     Finland  1970 -19.870412   \n",
       "4             4          53     Iceland  1970 -20.732533   \n",
       "\n",
       "   stance_positivity_score  gini Coefficient leading  \\\n",
       "0                58.764000          0.299742    left   \n",
       "1                60.142444          0.269873    left   \n",
       "2                50.180000          0.279386    left   \n",
       "3                50.911235          0.274384    left   \n",
       "4                45.709688          0.266170    left   \n",
       "\n",
       "   RILE_stance_score_interaction Country Profile  \n",
       "0                    -604.306940       Country B  \n",
       "1                    -923.346902       Country B  \n",
       "2                    -328.369997       Country B  \n",
       "3                   -1011.627209       Country B  \n",
       "4                    -947.677620       Country A  "
      ]
     },
     "metadata": {},
     "output_type": "display_data"
    }
   ],
   "source": [
    "# Initialize an empty dictionary to store country profiles\n",
    "country_profile_dict = {}\n",
    "\n",
    "# Iterate through each row of the country_profiles_indexed dataframe\n",
    "for index, row in country_profiles.iterrows():\n",
    "    # Get the country profile for the current row\n",
    "    profile = row['Country Profile']\n",
    "    # Iterate through the list of countries in the current row\n",
    "    for country_list in row['Country'].split(', '):  # Split the country list by ', '\n",
    "        # Add the country and its corresponding profile to the dictionary\n",
    "        country_profile_dict[country_list] = profile\n",
    "\n",
    "# Map the 'country' column in data dataframe to the 'Country Profile' dictionary\n",
    "data['Country Profile'] = data['countryname'].map(country_profile_dict)\n",
    "\n",
    "# Display the updated data dataframe\n",
    "display(data.head())"
   ]
  },
  {
   "cell_type": "code",
   "execution_count": 27,
   "metadata": {},
   "outputs": [
    {
     "data": {
      "text/plain": [
       "(33, 10)"
      ]
     },
     "execution_count": 27,
     "metadata": {},
     "output_type": "execute_result"
    }
   ],
   "source": [
    "data.shape"
   ]
  },
  {
   "cell_type": "code",
   "execution_count": 28,
   "metadata": {},
   "outputs": [
    {
     "data": {
      "text/html": [
       "<div>\n",
       "<style scoped>\n",
       "    .dataframe tbody tr th:only-of-type {\n",
       "        vertical-align: middle;\n",
       "    }\n",
       "\n",
       "    .dataframe tbody tr th {\n",
       "        vertical-align: top;\n",
       "    }\n",
       "\n",
       "    .dataframe thead th {\n",
       "        text-align: right;\n",
       "    }\n",
       "</style>\n",
       "<table border=\"1\" class=\"dataframe\">\n",
       "  <thead>\n",
       "    <tr style=\"text-align: right;\">\n",
       "      <th></th>\n",
       "      <th>Unnamed: 0.1</th>\n",
       "      <th>Unnamed: 0</th>\n",
       "      <th>countryname</th>\n",
       "      <th>year</th>\n",
       "      <th>rile</th>\n",
       "      <th>stance_positivity_score</th>\n",
       "      <th>gini Coefficient</th>\n",
       "      <th>leading</th>\n",
       "      <th>RILE_stance_score_interaction</th>\n",
       "      <th>Country Profile_Country B</th>\n",
       "      <th>Country Profile_Country C</th>\n",
       "      <th>Country Profile_Country D</th>\n",
       "    </tr>\n",
       "  </thead>\n",
       "  <tbody>\n",
       "    <tr>\n",
       "      <th>0</th>\n",
       "      <td>0</td>\n",
       "      <td>0</td>\n",
       "      <td>Sweden</td>\n",
       "      <td>1970</td>\n",
       "      <td>-10.283625</td>\n",
       "      <td>58.764000</td>\n",
       "      <td>0.299742</td>\n",
       "      <td>left</td>\n",
       "      <td>-604.306940</td>\n",
       "      <td>True</td>\n",
       "      <td>False</td>\n",
       "      <td>False</td>\n",
       "    </tr>\n",
       "    <tr>\n",
       "      <th>1</th>\n",
       "      <td>1</td>\n",
       "      <td>8</td>\n",
       "      <td>Norway</td>\n",
       "      <td>1970</td>\n",
       "      <td>-15.352667</td>\n",
       "      <td>60.142444</td>\n",
       "      <td>0.269873</td>\n",
       "      <td>left</td>\n",
       "      <td>-923.346902</td>\n",
       "      <td>True</td>\n",
       "      <td>False</td>\n",
       "      <td>False</td>\n",
       "    </tr>\n",
       "    <tr>\n",
       "      <th>2</th>\n",
       "      <td>2</td>\n",
       "      <td>17</td>\n",
       "      <td>Denmark</td>\n",
       "      <td>1970</td>\n",
       "      <td>-6.543842</td>\n",
       "      <td>50.180000</td>\n",
       "      <td>0.279386</td>\n",
       "      <td>left</td>\n",
       "      <td>-328.369997</td>\n",
       "      <td>True</td>\n",
       "      <td>False</td>\n",
       "      <td>False</td>\n",
       "    </tr>\n",
       "    <tr>\n",
       "      <th>3</th>\n",
       "      <td>3</td>\n",
       "      <td>36</td>\n",
       "      <td>Finland</td>\n",
       "      <td>1970</td>\n",
       "      <td>-19.870412</td>\n",
       "      <td>50.911235</td>\n",
       "      <td>0.274384</td>\n",
       "      <td>left</td>\n",
       "      <td>-1011.627209</td>\n",
       "      <td>True</td>\n",
       "      <td>False</td>\n",
       "      <td>False</td>\n",
       "    </tr>\n",
       "    <tr>\n",
       "      <th>4</th>\n",
       "      <td>4</td>\n",
       "      <td>53</td>\n",
       "      <td>Iceland</td>\n",
       "      <td>1970</td>\n",
       "      <td>-20.732533</td>\n",
       "      <td>45.709688</td>\n",
       "      <td>0.266170</td>\n",
       "      <td>left</td>\n",
       "      <td>-947.677620</td>\n",
       "      <td>False</td>\n",
       "      <td>False</td>\n",
       "      <td>False</td>\n",
       "    </tr>\n",
       "  </tbody>\n",
       "</table>\n",
       "</div>"
      ],
      "text/plain": [
       "   Unnamed: 0.1  Unnamed: 0 countryname  year       rile  \\\n",
       "0             0           0      Sweden  1970 -10.283625   \n",
       "1             1           8      Norway  1970 -15.352667   \n",
       "2             2          17     Denmark  1970  -6.543842   \n",
       "3             3          36     Finland  1970 -19.870412   \n",
       "4             4          53     Iceland  1970 -20.732533   \n",
       "\n",
       "   stance_positivity_score  gini Coefficient leading  \\\n",
       "0                58.764000          0.299742    left   \n",
       "1                60.142444          0.269873    left   \n",
       "2                50.180000          0.279386    left   \n",
       "3                50.911235          0.274384    left   \n",
       "4                45.709688          0.266170    left   \n",
       "\n",
       "   RILE_stance_score_interaction  Country Profile_Country B  \\\n",
       "0                    -604.306940                       True   \n",
       "1                    -923.346902                       True   \n",
       "2                    -328.369997                       True   \n",
       "3                   -1011.627209                       True   \n",
       "4                    -947.677620                      False   \n",
       "\n",
       "   Country Profile_Country C  Country Profile_Country D  \n",
       "0                      False                      False  \n",
       "1                      False                      False  \n",
       "2                      False                      False  \n",
       "3                      False                      False  \n",
       "4                      False                      False  "
      ]
     },
     "metadata": {},
     "output_type": "display_data"
    }
   ],
   "source": [
    "# one-hot encode country profiles\n",
    "data = pd.get_dummies(data, columns=['Country Profile'], drop_first=True)\n",
    "display(data.head())"
   ]
  },
  {
   "cell_type": "code",
   "execution_count": 39,
   "metadata": {},
   "outputs": [
    {
     "name": "stdout",
     "output_type": "stream",
     "text": [
      "Intercept: 0.33324511227915027\n",
      "Coefficient: -0.0015264570353138447\n",
      "Mean Squared Error: 0.0011960011775370978\n"
     ]
    }
   ],
   "source": [
    "# linear regression\n",
    "data.dropna(subset=['gini Coefficient'], inplace=True)\n",
    "X = data[[\n",
    "    'rile',\n",
    "    \"stance_positivity_score\",\n",
    "    \"RILE_stance_score_interaction\",\n",
    "    \"Country Profile_Country B\",\n",
    "    \"Country Profile_Country C\",\n",
    "    \"Country Profile_Country D\"]]\n",
    "y = data['gini Coefficient']\n",
    "\n",
    "# initialize model\n",
    "model = LinearRegression()\n",
    "\n",
    "# fit model\n",
    "model.fit(X,y)\n",
    "\n",
    "# predict gini values\n",
    "y_pred = model.predict(X)\n",
    "\n",
    "# Calculate mean squared error\n",
    "mse = mean_squared_error(y, y_pred)\n",
    "\n",
    "# Print the coefficients and MSE\n",
    "print(\"Intercept:\", model.intercept_)\n",
    "print(\"Coefficient:\", model.coef_[0])\n",
    "print(\"Mean Squared Error:\", mse)\n"
   ]
  },
  {
   "cell_type": "code",
   "execution_count": 40,
   "metadata": {},
   "outputs": [],
   "source": [
    "data[['Country Profile_Country B', 'Country Profile_Country C', 'Country Profile_Country D']] = data[['Country Profile_Country B', 'Country Profile_Country C', 'Country Profile_Country D']].astype(int)"
   ]
  },
  {
   "cell_type": "code",
   "execution_count": 41,
   "metadata": {},
   "outputs": [
    {
     "name": "stdout",
     "output_type": "stream",
     "text": [
      "Country Profile: Country Profile_Country C, Coefficient: 0.0844961644718167\n",
      "Country Profile: Country Profile_Country D, Coefficient: 0.031995631043591335\n",
      "Country Profile: Country Profile_Country B, Coefficient: 0.009947318665670005\n",
      "Country Profile: RILE_stance_score_interaction, Coefficient: 4.8063497830229884e-05\n",
      "Country Profile: stance_positivity_score, Coefficient: -0.00045424539439450494\n",
      "Country Profile: rile, Coefficient: -0.0015264570353138447\n"
     ]
    }
   ],
   "source": [
    "coefficients = model.coef_\n",
    "country_profiles = X.columns\n",
    "\n",
    "# Create a dictionary to store country profiles and their coefficients\n",
    "profile_coefficients = dict(zip(country_profiles, coefficients))\n",
    "\n",
    "# Sort the dictionary by coefficient value\n",
    "sorted_profile_coefficients = sorted(profile_coefficients.items(), key=lambda x: x[1], reverse=True)\n",
    "\n",
    "# Print \n",
    "for profile, coefficient in sorted_profile_coefficients:\n",
    "    print(f\"Country Profile: {profile}, Coefficient: {coefficient}\")\n"
   ]
  },
  {
   "cell_type": "code",
   "execution_count": 42,
   "metadata": {},
   "outputs": [
    {
     "data": {
      "image/png": "[encoded data removed]",
      "text/plain": [
       "<Figure size 800x600 with 1 Axes>"
      ]
     },
     "metadata": {},
     "output_type": "display_data"
    }
   ],
   "source": [
    "#getting the actual and predicted gini values\n",
    "y_actual = data['gini Coefficient']\n",
    "\n",
    "#plotting relationship between actual and predicted values of gini\n",
    "plt.figure(figsize=(8, 6))\n",
    "plt.scatter(y_actual, y_pred, color='blue', alpha=0.5)  # Scatter plot of actual vs. predicted\n",
    "plt.plot([min(y_actual), max(y_actual)], [min(y_actual), max(y_actual)], color='red')  # Diagonal line for reference\n",
    "plt.title('Actual vs. Predicted Gini Coefficients')\n",
    "plt.xlabel('Actual Gini Coefficients')\n",
    "plt.ylabel('Predicted Gini Coefficients')\n",
    "plt.grid(True)\n",
    "plt.show()"
   ]
  },
  {
   "cell_type": "markdown",
   "metadata": {},
   "source": [
    "### Model with GINI outlier"
   ]
  },
  {
   "cell_type": "code",
   "execution_count": 43,
   "metadata": {},
   "outputs": [
    {
     "name": "stdout",
     "output_type": "stream",
     "text": [
      "                            OLS Regression Results                            \n",
      "==============================================================================\n",
      "Dep. Variable:       gini Coefficient   R-squared:                       0.260\n",
      "Model:                            OLS   Adj. R-squared:                  0.083\n",
      "Method:                 Least Squares   F-statistic:                     1.466\n",
      "Date:                Tue, 09 Apr 2024   Prob (F-statistic):              0.230\n",
      "Time:                        08:58:01   Log-Likelihood:                 62.254\n",
      "No. Observations:                  32   AIC:                            -110.5\n",
      "Df Residuals:                      25   BIC:                            -100.2\n",
      "Df Model:                           6                                         \n",
      "Covariance Type:            nonrobust                                         \n",
      "==============================================================================\n",
      "                 coef    std err          t      P>|t|      [0.025      0.975]\n",
      "------------------------------------------------------------------------------\n",
      "const          0.1666      0.034      4.941      0.000       0.097       0.236\n",
      "x1             0.1666      0.034      4.941      0.000       0.097       0.236\n",
      "x2            -0.0015      0.005     -0.287      0.777      -0.012       0.009\n",
      "x3            -0.0005      0.001     -0.413      0.683      -0.003       0.002\n",
      "x4          4.806e-05   9.52e-05      0.505      0.618      -0.000       0.000\n",
      "x5             0.0099      0.018      0.540      0.594      -0.028       0.048\n",
      "x6             0.0845      0.053      1.597      0.123      -0.024       0.193\n",
      "x7             0.0320      0.025      1.266      0.217      -0.020       0.084\n",
      "==============================================================================\n",
      "Omnibus:                        0.339   Durbin-Watson:                   1.747\n",
      "Prob(Omnibus):                  0.844   Jarque-Bera (JB):                0.457\n",
      "Skew:                           0.210   Prob(JB):                        0.796\n",
      "Kurtosis:                       2.593   Cond. No.                     1.92e+17\n",
      "==============================================================================\n",
      "\n",
      "Notes:\n",
      "[1] Standard Errors assume that the covariance matrix of the errors is correctly specified.\n",
      "[2] The smallest eigenvalue is 2.91e-28. This might indicate that there are\n",
      "strong multicollinearity problems or that the design matrix is singular.\n"
     ]
    }
   ],
   "source": [
    "import statsmodels.api as sm\n",
    "\n",
    "from sklearn.model_selection import train_test_split\n",
    "from sklearn.linear_model import LinearRegression\n",
    "from sklearn.metrics import mean_squared_error, r2_score\n",
    "\n",
    "X = X\n",
    "y = y\n",
    "\n",
    "X_train, X_test, y_train, y_test = train_test_split(X, y, test_size=0.2, random_state=42)\n",
    "\n",
    "# Linear regression model\n",
    "model = LinearRegression()\n",
    "\n",
    "# Train the model\n",
    "model.fit(X_train, y_train)\n",
    "\n",
    "# Get the coefficients\n",
    "coefficients = model.coef_\n",
    "intercept = model.intercept_\n",
    "\n",
    "# Combine coefficients into a single array for statsmodels\n",
    "coefficients_statsmodels = np.concatenate(([intercept], coefficients))\n",
    "\n",
    "# Predict Gini index values on training and testing sets\n",
    "predicted_gini_train = model.predict(X_train)\n",
    "predicted_gini_test = model.predict(X_test)\n",
    "\n",
    "# Evaluate the model\n",
    "train_rmse = mean_squared_error(y_train, predicted_gini_train, squared=False)\n",
    "test_rmse = mean_squared_error(y_test, predicted_gini_test, squared=False)\n",
    "train_r2 = r2_score(y_train, predicted_gini_train)\n",
    "test_r2 = r2_score(y_test, predicted_gini_test)\n",
    "\n",
    "# Add predicted Gini index to the DataFrame\n",
    "data['Predicted_Gini'] = model.predict(X)\n",
    "\n",
    "# Use statsmodels to further analyze the regression\n",
    "X_with_intercept = sm.add_constant(X)  # Add intercept to X for statsmodels\n",
    "X_with_intercept = np.hstack([np.ones((X.shape[0], 1)), X_with_intercept])\n",
    "model = sm.OLS(y, X_with_intercept)\n",
    "results = model.fit()\n",
    "\n",
    "# Print the summary of the regression results from statsmodels\n",
    "print(results.summary())"
   ]
  },
  {
   "cell_type": "markdown",
   "metadata": {},
   "source": [
    "### Model without outlier"
   ]
  },
  {
   "cell_type": "code",
   "execution_count": 46,
   "metadata": {},
   "outputs": [
    {
     "data": {
      "text/plain": [
       "(31, 13)"
      ]
     },
     "execution_count": 46,
     "metadata": {},
     "output_type": "execute_result"
    }
   ],
   "source": [
    "# Find the index of the data point with the highest Gini coefficient\n",
    "highest_gini_index = data['gini Coefficient'].idxmax()\n",
    "highest_gini_index\n",
    "\n",
    "data_no_outliers = data.drop(highest_gini_index)\n",
    "data_no_outliers.shape"
   ]
  },
  {
   "cell_type": "code",
   "execution_count": 47,
   "metadata": {},
   "outputs": [
    {
     "name": "stdout",
     "output_type": "stream",
     "text": [
      "Intercept: 0.3332451122791503\n",
      "Coefficient: -0.0015264570353138466\n",
      "Mean Squared Error: 0.001234581860683456\n"
     ]
    }
   ],
   "source": [
    "# linear regression\n",
    "data_no_outliers.dropna(subset=['gini Coefficient'], inplace=True)\n",
    "X = data_no_outliers[[\n",
    "    'rile',\n",
    "    \"stance_positivity_score\",\n",
    "    \"RILE_stance_score_interaction\",\n",
    "    \"Country Profile_Country B\",\n",
    "    \"Country Profile_Country C\",\n",
    "    \"Country Profile_Country D\"]]\n",
    "y = data_no_outliers['gini Coefficient']\n",
    "\n",
    "# initialize model\n",
    "model = LinearRegression()\n",
    "\n",
    "# fit model\n",
    "model.fit(X,y)\n",
    "\n",
    "# predict gini values\n",
    "y_pred = model.predict(X)\n",
    "\n",
    "# Calculate mean squared error\n",
    "mse = mean_squared_error(y, y_pred)\n",
    "\n",
    "# Print the coefficients and MSE\n",
    "print(\"Intercept:\", model.intercept_)\n",
    "print(\"Coefficient:\", model.coef_[0])\n",
    "print(\"Mean Squared Error:\", mse)\n"
   ]
  },
  {
   "cell_type": "code",
   "execution_count": 49,
   "metadata": {},
   "outputs": [
    {
     "data": {
      "image/png": "[encoded data removed]",
      "text/plain": [
       "<Figure size 800x600 with 1 Axes>"
      ]
     },
     "metadata": {},
     "output_type": "display_data"
    }
   ],
   "source": [
    "#getting the actual and predicted gini values\n",
    "y_actual = data_no_outliers['gini Coefficient']\n",
    "\n",
    "#plotting relationship between actual and predicted values of gini\n",
    "plt.figure(figsize=(8, 6))\n",
    "plt.scatter(y_actual, y_pred, color='blue', alpha=0.5)  # Scatter plot of actual vs. predicted\n",
    "plt.plot([min(y_actual), max(y_actual)], [min(y_actual), max(y_actual)], color='red')  # Diagonal line for reference\n",
    "plt.title('Actual vs. Predicted Gini Coefficients')\n",
    "plt.xlabel('Actual Gini Coefficients')\n",
    "plt.ylabel('Predicted Gini Coefficients')\n",
    "plt.grid(True)\n",
    "plt.show()"
   ]
  },
  {
   "cell_type": "code",
   "execution_count": 51,
   "metadata": {},
   "outputs": [
    {
     "name": "stdout",
     "output_type": "stream",
     "text": [
      "                            OLS Regression Results                            \n",
      "==============================================================================\n",
      "Dep. Variable:       gini Coefficient   R-squared:                       0.113\n",
      "Model:                            OLS   Adj. R-squared:                 -0.064\n",
      "Method:                 Least Squares   F-statistic:                    0.6374\n",
      "Date:                Tue, 09 Apr 2024   Prob (F-statistic):              0.673\n",
      "Time:                        09:32:40   Log-Likelihood:                 59.817\n",
      "No. Observations:                  31   AIC:                            -107.6\n",
      "Df Residuals:                      25   BIC:                            -99.03\n",
      "Df Model:                           5                                         \n",
      "Covariance Type:            nonrobust                                         \n",
      "==============================================================================\n",
      "                 coef    std err          t      P>|t|      [0.025      0.975]\n",
      "------------------------------------------------------------------------------\n",
      "const          0.1666      0.034      4.941      0.000       0.097       0.236\n",
      "x1             0.1666      0.034      4.941      0.000       0.097       0.236\n",
      "x2            -0.0015      0.005     -0.287      0.777      -0.012       0.009\n",
      "x3            -0.0005      0.001     -0.413      0.683      -0.003       0.002\n",
      "x4          4.806e-05   9.52e-05      0.505      0.618      -0.000       0.000\n",
      "x5             0.0099      0.018      0.540      0.594      -0.028       0.048\n",
      "x6                  0          0        nan        nan           0           0\n",
      "x7             0.0320      0.025      1.266      0.217      -0.020       0.084\n",
      "==============================================================================\n",
      "Omnibus:                        0.386   Durbin-Watson:                   1.747\n",
      "Prob(Omnibus):                  0.824   Jarque-Bera (JB):                0.529\n",
      "Skew:                           0.207   Prob(JB):                        0.768\n",
      "Kurtosis:                       2.512   Cond. No.                          inf\n",
      "==============================================================================\n",
      "\n",
      "Notes:\n",
      "[1] Standard Errors assume that the covariance matrix of the errors is correctly specified.\n",
      "[2] The smallest eigenvalue is      0. This might indicate that there are\n",
      "strong multicollinearity problems or that the design matrix is singular.\n"
     ]
    },
    {
     "name": "stderr",
     "output_type": "stream",
     "text": [
      "c:\\Users\\sebgr\\.conda\\envs\\Uni\\Lib\\site-packages\\statsmodels\\regression\\linear_model.py:1966: RuntimeWarning: divide by zero encountered in scalar divide\n",
      "  return np.sqrt(eigvals[0]/eigvals[-1])\n"
     ]
    }
   ],
   "source": [
    "import statsmodels.api as sm\n",
    "\n",
    "from sklearn.model_selection import train_test_split\n",
    "from sklearn.linear_model import LinearRegression\n",
    "from sklearn.metrics import mean_squared_error, r2_score\n",
    "\n",
    "X = X\n",
    "y = y\n",
    "\n",
    "X_train, X_test, y_train, y_test = train_test_split(X, y, test_size=0.2, random_state=42)\n",
    "\n",
    "# Linear regression model\n",
    "model = LinearRegression()\n",
    "\n",
    "# Train the model\n",
    "model.fit(X_train, y_train)\n",
    "\n",
    "# Get the coefficients\n",
    "coefficients = model.coef_\n",
    "intercept = model.intercept_\n",
    "\n",
    "# Combine coefficients into a single array for statsmodels\n",
    "coefficients_statsmodels = np.concatenate(([intercept], coefficients))\n",
    "\n",
    "# Predict Gini index values on training and testing sets\n",
    "predicted_gini_train = model.predict(X_train)\n",
    "predicted_gini_test = model.predict(X_test)\n",
    "\n",
    "# Evaluate the model\n",
    "train_rmse = mean_squared_error(y_train, predicted_gini_train, squared=False)\n",
    "test_rmse = mean_squared_error(y_test, predicted_gini_test, squared=False)\n",
    "train_r2 = r2_score(y_train, predicted_gini_train)\n",
    "test_r2 = r2_score(y_test, predicted_gini_test)\n",
    "\n",
    "# Add predicted Gini index to the DataFrame\n",
    "data_no_outliers['Predicted_Gini'] = model.predict(X)\n",
    "\n",
    "# Use statsmodels to further analyze the regression\n",
    "X_with_intercept = sm.add_constant(X)  # Add intercept to X for statsmodels\n",
    "X_with_intercept = np.hstack([np.ones((X.shape[0], 1)), X_with_intercept])\n",
    "model = sm.OLS(y, X_with_intercept)\n",
    "results = model.fit()\n",
    "\n",
    "# Print the summary of the regression results from statsmodels\n",
    "print(results.summary())"
   ]
  },
  {
   "cell_type": "markdown",
   "metadata": {},
   "source": [
    "### Try logistic regression now"
   ]
  },
  {
   "cell_type": "code",
   "execution_count": null,
   "metadata": {},
   "outputs": [],
   "source": []
  }
 ],
 "metadata": {
  "kernelspec": {
   "display_name": "base",
   "language": "python",
   "name": "python3"
  },
  "language_info": {
   "codemirror_mode": {
    "name": "ipython",
    "version": 3
   },
   "file_extension": ".py",
   "mimetype": "text/x-python",
   "name": "python",
   "nbconvert_exporter": "python",
   "pygments_lexer": "ipython3",
   "version": "3.12.1"
  }
 },
 "nbformat": 4,
 "nbformat_minor": 2
}
